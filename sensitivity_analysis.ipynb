{
 "cells": [
  {
   "cell_type": "code",
   "execution_count": 1,
   "id": "137663f5",
   "metadata": {},
   "outputs": [],
   "source": [
    "import numpy as np \n",
    "import pandas as pd\n",
    "from matplotlib import pyplot as plt \n",
    "import seaborn as sbn \n",
    "\n",
    "import statsmodels.api as sm\n",
    "from patsy import dmatrices\n",
    "\n",
    "import os "
   ]
  },
  {
   "cell_type": "code",
   "execution_count": 2,
   "id": "69aec546",
   "metadata": {},
   "outputs": [
    {
     "data": {
      "text/html": [
       "<div>\n",
       "<style scoped>\n",
       "    .dataframe tbody tr th:only-of-type {\n",
       "        vertical-align: middle;\n",
       "    }\n",
       "\n",
       "    .dataframe tbody tr th {\n",
       "        vertical-align: top;\n",
       "    }\n",
       "\n",
       "    .dataframe thead th {\n",
       "        text-align: right;\n",
       "    }\n",
       "</style>\n",
       "<table border=\"1\" class=\"dataframe\">\n",
       "  <thead>\n",
       "    <tr style=\"text-align: right;\">\n",
       "      <th></th>\n",
       "      <th>batch</th>\n",
       "      <th>pc1_coef</th>\n",
       "      <th>pc1_pval</th>\n",
       "      <th>pc2_coef</th>\n",
       "      <th>pc2_pval</th>\n",
       "      <th>run_id</th>\n",
       "    </tr>\n",
       "  </thead>\n",
       "  <tbody>\n",
       "    <tr>\n",
       "      <th>0</th>\n",
       "      <td>H210514_SET1</td>\n",
       "      <td>0.045484</td>\n",
       "      <td>0.145593</td>\n",
       "      <td>0.081081</td>\n",
       "      <td>0.059126</td>\n",
       "      <td>81726eb7-61e6-49e5-adc9-70dcdf7c29d6</td>\n",
       "    </tr>\n",
       "    <tr>\n",
       "      <th>1</th>\n",
       "      <td>H210514_SET2</td>\n",
       "      <td>0.038921</td>\n",
       "      <td>0.211447</td>\n",
       "      <td>0.024591</td>\n",
       "      <td>0.559251</td>\n",
       "      <td>81726eb7-61e6-49e5-adc9-70dcdf7c29d6</td>\n",
       "    </tr>\n",
       "    <tr>\n",
       "      <th>2</th>\n",
       "      <td>H210521_SET1</td>\n",
       "      <td>-0.006031</td>\n",
       "      <td>0.845039</td>\n",
       "      <td>0.025711</td>\n",
       "      <td>0.541589</td>\n",
       "      <td>81726eb7-61e6-49e5-adc9-70dcdf7c29d6</td>\n",
       "    </tr>\n",
       "    <tr>\n",
       "      <th>3</th>\n",
       "      <td>H210521_SET2</td>\n",
       "      <td>0.018650</td>\n",
       "      <td>0.546350</td>\n",
       "      <td>-0.013055</td>\n",
       "      <td>0.756197</td>\n",
       "      <td>81726eb7-61e6-49e5-adc9-70dcdf7c29d6</td>\n",
       "    </tr>\n",
       "    <tr>\n",
       "      <th>4</th>\n",
       "      <td>H210528_SET1</td>\n",
       "      <td>0.024474</td>\n",
       "      <td>0.429337</td>\n",
       "      <td>-0.007595</td>\n",
       "      <td>0.856606</td>\n",
       "      <td>81726eb7-61e6-49e5-adc9-70dcdf7c29d6</td>\n",
       "    </tr>\n",
       "  </tbody>\n",
       "</table>\n",
       "</div>"
      ],
      "text/plain": [
       "          batch  pc1_coef  pc1_pval  pc2_coef  pc2_pval  \\\n",
       "0  H210514_SET1  0.045484  0.145593  0.081081  0.059126   \n",
       "1  H210514_SET2  0.038921  0.211447  0.024591  0.559251   \n",
       "2  H210521_SET1 -0.006031  0.845039  0.025711  0.541589   \n",
       "3  H210521_SET2  0.018650  0.546350 -0.013055  0.756197   \n",
       "4  H210528_SET1  0.024474  0.429337 -0.007595  0.856606   \n",
       "\n",
       "                                 run_id  \n",
       "0  81726eb7-61e6-49e5-adc9-70dcdf7c29d6  \n",
       "1  81726eb7-61e6-49e5-adc9-70dcdf7c29d6  \n",
       "2  81726eb7-61e6-49e5-adc9-70dcdf7c29d6  \n",
       "3  81726eb7-61e6-49e5-adc9-70dcdf7c29d6  \n",
       "4  81726eb7-61e6-49e5-adc9-70dcdf7c29d6  "
      ]
     },
     "execution_count": 2,
     "metadata": {},
     "output_type": "execute_result"
    }
   ],
   "source": [
    "batch_res = pd.read_csv('./output/batch_effect_results.csv')\n",
    "batch_res.head()"
   ]
  },
  {
   "cell_type": "code",
   "execution_count": 3,
   "id": "e1fc9532",
   "metadata": {},
   "outputs": [
    {
     "data": {
      "text/html": [
       "<div>\n",
       "<style scoped>\n",
       "    .dataframe tbody tr th:only-of-type {\n",
       "        vertical-align: middle;\n",
       "    }\n",
       "\n",
       "    .dataframe tbody tr th {\n",
       "        vertical-align: top;\n",
       "    }\n",
       "\n",
       "    .dataframe thead th {\n",
       "        text-align: right;\n",
       "    }\n",
       "</style>\n",
       "<table border=\"1\" class=\"dataframe\">\n",
       "  <thead>\n",
       "    <tr style=\"text-align: right;\">\n",
       "      <th></th>\n",
       "      <th>accuracy(train)</th>\n",
       "      <th>pc1_var</th>\n",
       "      <th>pc2_var</th>\n",
       "      <th>kmeans_inertia</th>\n",
       "      <th>res_line</th>\n",
       "      <th>sens_line</th>\n",
       "      <th>drug</th>\n",
       "      <th>nclus</th>\n",
       "      <th>resample_sz</th>\n",
       "      <th>load</th>\n",
       "      <th>burnin</th>\n",
       "      <th>run_id</th>\n",
       "      <th>cell_line</th>\n",
       "      <th>drug_check</th>\n",
       "    </tr>\n",
       "  </thead>\n",
       "  <tbody>\n",
       "    <tr>\n",
       "      <th>0</th>\n",
       "      <td>0.857143</td>\n",
       "      <td>0.509909</td>\n",
       "      <td>0.200358</td>\n",
       "      <td>2.842806</td>\n",
       "      <td>T798I</td>\n",
       "      <td>WT</td>\n",
       "      <td>neratinib</td>\n",
       "      <td>10</td>\n",
       "      <td>100</td>\n",
       "      <td>normalized</td>\n",
       "      <td>8</td>\n",
       "      <td>81726eb7-61e6-49e5-adc9-70dcdf7c29d6</td>\n",
       "      <td>EFM192A</td>\n",
       "      <td>NERATINIB</td>\n",
       "    </tr>\n",
       "    <tr>\n",
       "      <th>1</th>\n",
       "      <td>0.923077</td>\n",
       "      <td>0.350776</td>\n",
       "      <td>0.262082</td>\n",
       "      <td>3.795650</td>\n",
       "      <td>ND611</td>\n",
       "      <td>WT</td>\n",
       "      <td>trastuzumab</td>\n",
       "      <td>10</td>\n",
       "      <td>100</td>\n",
       "      <td>normalized</td>\n",
       "      <td>8</td>\n",
       "      <td>10697d2a-26a2-4039-8ced-e7731c8a3475</td>\n",
       "      <td>SKBR3</td>\n",
       "      <td>TRASTUZUMAB</td>\n",
       "    </tr>\n",
       "    <tr>\n",
       "      <th>2</th>\n",
       "      <td>1.000000</td>\n",
       "      <td>0.604678</td>\n",
       "      <td>0.116400</td>\n",
       "      <td>3.037901</td>\n",
       "      <td>T798I</td>\n",
       "      <td>WT</td>\n",
       "      <td>neratinib</td>\n",
       "      <td>10</td>\n",
       "      <td>100</td>\n",
       "      <td>normalized</td>\n",
       "      <td>8</td>\n",
       "      <td>972e134a-c895-4ab3-abbb-e476fc6b8e3a</td>\n",
       "      <td>SKBR3</td>\n",
       "      <td>NERATINIB</td>\n",
       "    </tr>\n",
       "    <tr>\n",
       "      <th>3</th>\n",
       "      <td>1.000000</td>\n",
       "      <td>0.439913</td>\n",
       "      <td>0.183952</td>\n",
       "      <td>2.902367</td>\n",
       "      <td>ND611</td>\n",
       "      <td>WT</td>\n",
       "      <td>trastuzumab</td>\n",
       "      <td>10</td>\n",
       "      <td>100</td>\n",
       "      <td>normalized</td>\n",
       "      <td>8</td>\n",
       "      <td>f2f3aba1-d808-470e-9bf2-8ca69bc5e245</td>\n",
       "      <td>EFM192A</td>\n",
       "      <td>TRASTUZUMAB</td>\n",
       "    </tr>\n",
       "  </tbody>\n",
       "</table>\n",
       "</div>"
      ],
      "text/plain": [
       "   accuracy(train)   pc1_var   pc2_var  kmeans_inertia res_line sens_line  \\\n",
       "0         0.857143  0.509909  0.200358        2.842806    T798I        WT   \n",
       "1         0.923077  0.350776  0.262082        3.795650    ND611        WT   \n",
       "2         1.000000  0.604678  0.116400        3.037901    T798I        WT   \n",
       "3         1.000000  0.439913  0.183952        2.902367    ND611        WT   \n",
       "\n",
       "          drug  nclus  resample_sz        load  burnin  \\\n",
       "0    neratinib     10          100  normalized       8   \n",
       "1  trastuzumab     10          100  normalized       8   \n",
       "2    neratinib     10          100  normalized       8   \n",
       "3  trastuzumab     10          100  normalized       8   \n",
       "\n",
       "                                 run_id cell_line   drug_check  \n",
       "0  81726eb7-61e6-49e5-adc9-70dcdf7c29d6   EFM192A    NERATINIB  \n",
       "1  10697d2a-26a2-4039-8ced-e7731c8a3475     SKBR3  TRASTUZUMAB  \n",
       "2  972e134a-c895-4ab3-abbb-e476fc6b8e3a     SKBR3    NERATINIB  \n",
       "3  f2f3aba1-d808-470e-9bf2-8ca69bc5e245   EFM192A  TRASTUZUMAB  "
      ]
     },
     "execution_count": 3,
     "metadata": {},
     "output_type": "execute_result"
    }
   ],
   "source": [
    "run_res = pd.read_csv('./output/experiment_run_results.csv')\n",
    "run_res.head()"
   ]
  },
  {
   "cell_type": "code",
   "execution_count": 4,
   "id": "a13e68aa",
   "metadata": {},
   "outputs": [
    {
     "data": {
      "text/html": [
       "<div>\n",
       "<style scoped>\n",
       "    .dataframe tbody tr th:only-of-type {\n",
       "        vertical-align: middle;\n",
       "    }\n",
       "\n",
       "    .dataframe tbody tr th {\n",
       "        vertical-align: top;\n",
       "    }\n",
       "\n",
       "    .dataframe thead th {\n",
       "        text-align: right;\n",
       "    }\n",
       "</style>\n",
       "<table border=\"1\" class=\"dataframe\">\n",
       "  <thead>\n",
       "    <tr style=\"text-align: right;\">\n",
       "      <th></th>\n",
       "      <th>pc1</th>\n",
       "      <th>pc2</th>\n",
       "      <th>treatment</th>\n",
       "      <th>mutant</th>\n",
       "      <th>batch</th>\n",
       "      <th>prob_res</th>\n",
       "      <th>prob_sens</th>\n",
       "      <th>call</th>\n",
       "      <th>run_id</th>\n",
       "      <th>cell_line</th>\n",
       "      <th>drug_check</th>\n",
       "    </tr>\n",
       "  </thead>\n",
       "  <tbody>\n",
       "    <tr>\n",
       "      <th>0</th>\n",
       "      <td>0.391113</td>\n",
       "      <td>0.132393</td>\n",
       "      <td>neratinib</td>\n",
       "      <td>A1160V</td>\n",
       "      <td>H210820</td>\n",
       "      <td>0.080768</td>\n",
       "      <td>0.919232</td>\n",
       "      <td>sens</td>\n",
       "      <td>81726eb7-61e6-49e5-adc9-70dcdf7c29d6</td>\n",
       "      <td>EFM192A</td>\n",
       "      <td>NERATINIB</td>\n",
       "    </tr>\n",
       "    <tr>\n",
       "      <th>1</th>\n",
       "      <td>0.088132</td>\n",
       "      <td>-0.221455</td>\n",
       "      <td>neratinib</td>\n",
       "      <td>A355QFS76</td>\n",
       "      <td>H210827_SET1</td>\n",
       "      <td>0.856325</td>\n",
       "      <td>0.143675</td>\n",
       "      <td>res</td>\n",
       "      <td>81726eb7-61e6-49e5-adc9-70dcdf7c29d6</td>\n",
       "      <td>EFM192A</td>\n",
       "      <td>NERATINIB</td>\n",
       "    </tr>\n",
       "    <tr>\n",
       "      <th>2</th>\n",
       "      <td>0.102254</td>\n",
       "      <td>-0.059112</td>\n",
       "      <td>neratinib</td>\n",
       "      <td>A37T</td>\n",
       "      <td>H210827_SET2</td>\n",
       "      <td>0.591542</td>\n",
       "      <td>0.408458</td>\n",
       "      <td>res</td>\n",
       "      <td>81726eb7-61e6-49e5-adc9-70dcdf7c29d6</td>\n",
       "      <td>EFM192A</td>\n",
       "      <td>NERATINIB</td>\n",
       "    </tr>\n",
       "    <tr>\n",
       "      <th>3</th>\n",
       "      <td>0.184235</td>\n",
       "      <td>-0.152835</td>\n",
       "      <td>neratinib</td>\n",
       "      <td>D639E</td>\n",
       "      <td>H210827_SET1</td>\n",
       "      <td>0.890888</td>\n",
       "      <td>0.109112</td>\n",
       "      <td>res</td>\n",
       "      <td>81726eb7-61e6-49e5-adc9-70dcdf7c29d6</td>\n",
       "      <td>EFM192A</td>\n",
       "      <td>NERATINIB</td>\n",
       "    </tr>\n",
       "    <tr>\n",
       "      <th>4</th>\n",
       "      <td>0.138022</td>\n",
       "      <td>-0.170660</td>\n",
       "      <td>neratinib</td>\n",
       "      <td>G778P780DUP</td>\n",
       "      <td>H210820</td>\n",
       "      <td>0.894013</td>\n",
       "      <td>0.105987</td>\n",
       "      <td>res</td>\n",
       "      <td>81726eb7-61e6-49e5-adc9-70dcdf7c29d6</td>\n",
       "      <td>EFM192A</td>\n",
       "      <td>NERATINIB</td>\n",
       "    </tr>\n",
       "  </tbody>\n",
       "</table>\n",
       "</div>"
      ],
      "text/plain": [
       "        pc1       pc2  treatment       mutant         batch  prob_res  \\\n",
       "0  0.391113  0.132393  neratinib       A1160V       H210820  0.080768   \n",
       "1  0.088132 -0.221455  neratinib    A355QFS76  H210827_SET1  0.856325   \n",
       "2  0.102254 -0.059112  neratinib         A37T  H210827_SET2  0.591542   \n",
       "3  0.184235 -0.152835  neratinib        D639E  H210827_SET1  0.890888   \n",
       "4  0.138022 -0.170660  neratinib  G778P780DUP       H210820  0.894013   \n",
       "\n",
       "   prob_sens  call                                run_id cell_line drug_check  \n",
       "0   0.919232  sens  81726eb7-61e6-49e5-adc9-70dcdf7c29d6   EFM192A  NERATINIB  \n",
       "1   0.143675   res  81726eb7-61e6-49e5-adc9-70dcdf7c29d6   EFM192A  NERATINIB  \n",
       "2   0.408458   res  81726eb7-61e6-49e5-adc9-70dcdf7c29d6   EFM192A  NERATINIB  \n",
       "3   0.109112   res  81726eb7-61e6-49e5-adc9-70dcdf7c29d6   EFM192A  NERATINIB  \n",
       "4   0.105987   res  81726eb7-61e6-49e5-adc9-70dcdf7c29d6   EFM192A  NERATINIB  "
      ]
     },
     "execution_count": 4,
     "metadata": {},
     "output_type": "execute_result"
    }
   ],
   "source": [
    "mut_res = pd.read_csv('./output/mutant_resistance_results.csv')\n",
    "mut_res.head()"
   ]
  },
  {
   "cell_type": "markdown",
   "id": "a5a26fcc",
   "metadata": {},
   "source": [
    "# Train accuracy \n",
    "\n",
    "This is a good metric of how easily sepearable the classes are."
   ]
  },
  {
   "cell_type": "code",
   "execution_count": 5,
   "id": "2a706f81",
   "metadata": {},
   "outputs": [
    {
     "name": "stdout",
     "output_type": "stream",
     "text": [
      "                            OLS Regression Results                            \n",
      "==============================================================================\n",
      "Dep. Variable:               accuracy   R-squared:                       0.000\n",
      "Model:                            OLS   Adj. R-squared:                  0.000\n",
      "Method:                 Least Squares   F-statistic:                       nan\n",
      "Date:                Sat, 08 Jan 2022   Prob (F-statistic):                nan\n",
      "Time:                        15:01:31   Log-Likelihood:                 5.5989\n",
      "No. Observations:                   4   AIC:                            -9.198\n",
      "Df Residuals:                       3   BIC:                            -9.812\n",
      "Df Model:                           0                                         \n",
      "Covariance Type:            nonrobust                                         \n",
      "===============================================================================\n",
      "                  coef    std err          t      P>|t|      [0.025      0.975]\n",
      "-------------------------------------------------------------------------------\n",
      "Intercept    9.297e-05   3.39e-06     27.425      0.000    8.22e-05       0.000\n",
      "nclus           0.0009   3.39e-05     27.425      0.000       0.001       0.001\n",
      "resample_sz     0.0093      0.000     27.425      0.000       0.008       0.010\n",
      "burnin          0.0007   2.71e-05     27.425      0.000       0.001       0.001\n",
      "==============================================================================\n",
      "Omnibus:                          nan   Durbin-Watson:                   0.720\n",
      "Prob(Omnibus):                    nan   Jarque-Bera (JB):                0.473\n",
      "Skew:                          -0.421   Prob(JB):                        0.789\n",
      "Kurtosis:                       1.540   Cond. No.                     7.60e+49\n",
      "==============================================================================\n",
      "\n",
      "Notes:\n",
      "[1] Standard Errors assume that the covariance matrix of the errors is correctly specified.\n",
      "[2] The smallest eigenvalue is 7.04e-96. This might indicate that there are\n",
      "strong multicollinearity problems or that the design matrix is singular.\n"
     ]
    },
    {
     "name": "stderr",
     "output_type": "stream",
     "text": [
      "/home/teddy/miniconda3/envs/lc_reporter/lib/python3.9/site-packages/statsmodels/stats/stattools.py:74: ValueWarning: omni_normtest is not valid with less than 8 observations; 4 samples were given.\n",
      "  warn(\"omni_normtest is not valid with less than 8 observations; %i \"\n"
     ]
    }
   ],
   "source": [
    "y, X = dmatrices('accuracy ~ nclus + resample_sz + load + burnin', data=run_res.rename({'accuracy(train)':'accuracy'}, axis=1), return_type='dataframe')\n",
    "mod = sm.OLS(y, X) \n",
    "fit = mod.fit()\n",
    "print(fit.summary())"
   ]
  },
  {
   "cell_type": "markdown",
   "id": "4aca747b",
   "metadata": {},
   "source": [
    "# Batch Effects "
   ]
  },
  {
   "cell_type": "code",
   "execution_count": 6,
   "id": "c2719cc7",
   "metadata": {},
   "outputs": [
    {
     "data": {
      "text/html": [
       "<div>\n",
       "<style scoped>\n",
       "    .dataframe tbody tr th:only-of-type {\n",
       "        vertical-align: middle;\n",
       "    }\n",
       "\n",
       "    .dataframe tbody tr th {\n",
       "        vertical-align: top;\n",
       "    }\n",
       "\n",
       "    .dataframe thead th {\n",
       "        text-align: right;\n",
       "    }\n",
       "</style>\n",
       "<table border=\"1\" class=\"dataframe\">\n",
       "  <thead>\n",
       "    <tr style=\"text-align: right;\">\n",
       "      <th></th>\n",
       "      <th>batch</th>\n",
       "      <th>treatment</th>\n",
       "      <th>PC1_flag</th>\n",
       "      <th>PC2_flag</th>\n",
       "      <th>any_flag</th>\n",
       "    </tr>\n",
       "  </thead>\n",
       "  <tbody>\n",
       "    <tr>\n",
       "      <th>0</th>\n",
       "      <td>H210205_SET1_2</td>\n",
       "      <td>neratinib</td>\n",
       "      <td>0.0</td>\n",
       "      <td>0.0</td>\n",
       "      <td>0.0</td>\n",
       "    </tr>\n",
       "    <tr>\n",
       "      <th>1</th>\n",
       "      <td>H210205_SET1_2</td>\n",
       "      <td>trastuzumab</td>\n",
       "      <td>0.0</td>\n",
       "      <td>0.0</td>\n",
       "      <td>0.0</td>\n",
       "    </tr>\n",
       "    <tr>\n",
       "      <th>2</th>\n",
       "      <td>H210205_SET2_2</td>\n",
       "      <td>neratinib</td>\n",
       "      <td>0.0</td>\n",
       "      <td>0.0</td>\n",
       "      <td>0.0</td>\n",
       "    </tr>\n",
       "    <tr>\n",
       "      <th>3</th>\n",
       "      <td>H210205_SET2_2</td>\n",
       "      <td>trastuzumab</td>\n",
       "      <td>0.0</td>\n",
       "      <td>0.0</td>\n",
       "      <td>0.0</td>\n",
       "    </tr>\n",
       "    <tr>\n",
       "      <th>4</th>\n",
       "      <td>H210212_SET1</td>\n",
       "      <td>neratinib</td>\n",
       "      <td>0.0</td>\n",
       "      <td>0.0</td>\n",
       "      <td>0.0</td>\n",
       "    </tr>\n",
       "  </tbody>\n",
       "</table>\n",
       "</div>"
      ],
      "text/plain": [
       "            batch    treatment  PC1_flag  PC2_flag  any_flag\n",
       "0  H210205_SET1_2    neratinib       0.0       0.0       0.0\n",
       "1  H210205_SET1_2  trastuzumab       0.0       0.0       0.0\n",
       "2  H210205_SET2_2    neratinib       0.0       0.0       0.0\n",
       "3  H210205_SET2_2  trastuzumab       0.0       0.0       0.0\n",
       "4    H210212_SET1    neratinib       0.0       0.0       0.0"
      ]
     },
     "execution_count": 6,
     "metadata": {},
     "output_type": "execute_result"
    }
   ],
   "source": [
    "batch_res2 = batch_res.assign(PC1_flag = lambda x: x.pc1_pval < 0.05,\n",
    "                               PC2_flag = lambda x: x.pc2_pval < 0.05)\n",
    "\n",
    "batch_res2 = batch_res2.assign(any_flag=lambda x: (x.PC1_flag | x.PC2_flag))\n",
    "\n",
    "x = mut_res[['cell_line', 'treatment', 'run_id']].drop_duplicates()\n",
    "\n",
    "batch_res2 = batch_res2.merge(x, on='run_id', how='left')\n",
    "\n",
    "batch_sum = batch_res2[['batch', 'treatment', 'PC1_flag', \"PC2_flag\", 'any_flag']].groupby(['batch', 'treatment']).mean().reset_index()\n",
    "batch_sum.head()"
   ]
  },
  {
   "cell_type": "code",
   "execution_count": 7,
   "id": "807d1dae",
   "metadata": {},
   "outputs": [
    {
     "data": {
      "image/png": "[encoded data removed]",
      "text/plain": [
       "<Figure size 720x864 with 3 Axes>"
      ]
     },
     "metadata": {
      "needs_background": "light"
     },
     "output_type": "display_data"
    }
   ],
   "source": [
    "f, axes = plt.subplots(1,3, figsize=(10,12), sharey=True)\n",
    "sbn.barplot(y='batch', x='any_flag', hue='treatment', data=batch_res2, ax=axes[0])\n",
    "sbn.barplot(y='batch', x='PC1_flag', hue='treatment', data=batch_res2, ax=axes[1])\n",
    "sbn.barplot(y='batch', x='PC2_flag', hue='treatment', data=batch_res2, ax=axes[2])\n",
    "plt.show()"
   ]
  },
  {
   "cell_type": "code",
   "execution_count": 10,
   "id": "52601b38",
   "metadata": {},
   "outputs": [
    {
     "data": {
      "text/plain": [
       "array(['batch[T.H210514_SET2]', 'batch[T.H210521_SET1]',\n",
       "       'batch[T.H210521_SET2]', 'batch[T.H210528_SET1]',\n",
       "       'batch[T.H210528_SET2]', 'batch[T.H210604_SET1]',\n",
       "       'batch[T.H210604_SET2]', 'batch[T.H210618_SET1]',\n",
       "       'batch[T.H210618_SET2]', 'batch[T.H210820]',\n",
       "       'batch[T.H210827_SET1]', 'batch[T.H210827_SET2]',\n",
       "       'batch[T.H210917_EFM192A]', 'batch[T.H210205_SET2_2]',\n",
       "       'batch[T.H210212_SET1]', 'batch[T.H210212_SET2]',\n",
       "       'batch[T.H210219_SET1]', 'batch[T.H210219_SET2]',\n",
       "       'batch[T.H210326_SET1]', 'batch[T.H210326_SET2]',\n",
       "       'batch[T.H210401_SET1]', 'batch[T.H210401_SET2]',\n",
       "       'batch[T.H210409_SET1]', 'batch[T.H210409_SET2]',\n",
       "       'batch[T.H210423_SET1]'], dtype=object)"
      ]
     },
     "execution_count": 10,
     "metadata": {},
     "output_type": "execute_result"
    }
   ],
   "source": [
    "batch_res.batch.unique()"
   ]
  },
  {
   "cell_type": "code",
   "execution_count": 11,
   "id": "09a778ca",
   "metadata": {},
   "outputs": [],
   "source": [
    "# BUG: Why don't we have ['H210514_SET1', 'H210205_SET1_2'] in the batch_effects csv ??? "
   ]
  },
  {
   "cell_type": "code",
   "execution_count": 12,
   "id": "6a6bf231",
   "metadata": {},
   "outputs": [
    {
     "data": {
      "text/html": [
       "<div>\n",
       "<style scoped>\n",
       "    .dataframe tbody tr th:only-of-type {\n",
       "        vertical-align: middle;\n",
       "    }\n",
       "\n",
       "    .dataframe tbody tr th {\n",
       "        vertical-align: top;\n",
       "    }\n",
       "\n",
       "    .dataframe thead th {\n",
       "        text-align: right;\n",
       "    }\n",
       "</style>\n",
       "<table border=\"1\" class=\"dataframe\">\n",
       "  <thead>\n",
       "    <tr style=\"text-align: right;\">\n",
       "      <th></th>\n",
       "      <th>pc1</th>\n",
       "      <th>pc2</th>\n",
       "      <th>treatment</th>\n",
       "      <th>mutant</th>\n",
       "      <th>batch</th>\n",
       "      <th>prob_res</th>\n",
       "      <th>prob_sens</th>\n",
       "      <th>call</th>\n",
       "      <th>run_id</th>\n",
       "      <th>cell_line</th>\n",
       "      <th>drug_check</th>\n",
       "      <th>PC1_flag</th>\n",
       "      <th>PC2_flag</th>\n",
       "      <th>any_flag</th>\n",
       "    </tr>\n",
       "  </thead>\n",
       "  <tbody>\n",
       "    <tr>\n",
       "      <th>0</th>\n",
       "      <td>0.399148</td>\n",
       "      <td>0.105805</td>\n",
       "      <td>neratinib</td>\n",
       "      <td>A1160V</td>\n",
       "      <td>H210820</td>\n",
       "      <td>0.070135</td>\n",
       "      <td>0.929865</td>\n",
       "      <td>sens</td>\n",
       "      <td>810e5a2f-42b6-43c4-a281-9fa5ef5dbf97</td>\n",
       "      <td>EFM192A</td>\n",
       "      <td>NERATINIB</td>\n",
       "      <td>0.0</td>\n",
       "      <td>1.0</td>\n",
       "      <td>1.0</td>\n",
       "    </tr>\n",
       "    <tr>\n",
       "      <th>1</th>\n",
       "      <td>0.081019</td>\n",
       "      <td>-0.198992</td>\n",
       "      <td>neratinib</td>\n",
       "      <td>A355QFS76</td>\n",
       "      <td>H210827_SET1</td>\n",
       "      <td>0.916043</td>\n",
       "      <td>0.083957</td>\n",
       "      <td>res</td>\n",
       "      <td>810e5a2f-42b6-43c4-a281-9fa5ef5dbf97</td>\n",
       "      <td>EFM192A</td>\n",
       "      <td>NERATINIB</td>\n",
       "      <td>0.0</td>\n",
       "      <td>1.0</td>\n",
       "      <td>1.0</td>\n",
       "    </tr>\n",
       "    <tr>\n",
       "      <th>2</th>\n",
       "      <td>0.091566</td>\n",
       "      <td>-0.055524</td>\n",
       "      <td>neratinib</td>\n",
       "      <td>A37T</td>\n",
       "      <td>H210827_SET2</td>\n",
       "      <td>0.567364</td>\n",
       "      <td>0.432636</td>\n",
       "      <td>res</td>\n",
       "      <td>810e5a2f-42b6-43c4-a281-9fa5ef5dbf97</td>\n",
       "      <td>EFM192A</td>\n",
       "      <td>NERATINIB</td>\n",
       "      <td>0.0</td>\n",
       "      <td>0.0</td>\n",
       "      <td>0.0</td>\n",
       "    </tr>\n",
       "    <tr>\n",
       "      <th>3</th>\n",
       "      <td>0.178451</td>\n",
       "      <td>-0.134733</td>\n",
       "      <td>neratinib</td>\n",
       "      <td>D639E</td>\n",
       "      <td>H210827_SET1</td>\n",
       "      <td>0.898748</td>\n",
       "      <td>0.101252</td>\n",
       "      <td>res</td>\n",
       "      <td>810e5a2f-42b6-43c4-a281-9fa5ef5dbf97</td>\n",
       "      <td>EFM192A</td>\n",
       "      <td>NERATINIB</td>\n",
       "      <td>0.0</td>\n",
       "      <td>1.0</td>\n",
       "      <td>1.0</td>\n",
       "    </tr>\n",
       "    <tr>\n",
       "      <th>4</th>\n",
       "      <td>0.126526</td>\n",
       "      <td>-0.203509</td>\n",
       "      <td>neratinib</td>\n",
       "      <td>G778P780DUP</td>\n",
       "      <td>H210820</td>\n",
       "      <td>0.913677</td>\n",
       "      <td>0.086323</td>\n",
       "      <td>res</td>\n",
       "      <td>810e5a2f-42b6-43c4-a281-9fa5ef5dbf97</td>\n",
       "      <td>EFM192A</td>\n",
       "      <td>NERATINIB</td>\n",
       "      <td>0.0</td>\n",
       "      <td>1.0</td>\n",
       "      <td>1.0</td>\n",
       "    </tr>\n",
       "  </tbody>\n",
       "</table>\n",
       "</div>"
      ],
      "text/plain": [
       "        pc1       pc2  treatment       mutant         batch  prob_res  \\\n",
       "0  0.399148  0.105805  neratinib       A1160V       H210820  0.070135   \n",
       "1  0.081019 -0.198992  neratinib    A355QFS76  H210827_SET1  0.916043   \n",
       "2  0.091566 -0.055524  neratinib         A37T  H210827_SET2  0.567364   \n",
       "3  0.178451 -0.134733  neratinib        D639E  H210827_SET1  0.898748   \n",
       "4  0.126526 -0.203509  neratinib  G778P780DUP       H210820  0.913677   \n",
       "\n",
       "   prob_sens  call                                run_id cell_line drug_check  \\\n",
       "0   0.929865  sens  810e5a2f-42b6-43c4-a281-9fa5ef5dbf97   EFM192A  NERATINIB   \n",
       "1   0.083957   res  810e5a2f-42b6-43c4-a281-9fa5ef5dbf97   EFM192A  NERATINIB   \n",
       "2   0.432636   res  810e5a2f-42b6-43c4-a281-9fa5ef5dbf97   EFM192A  NERATINIB   \n",
       "3   0.101252   res  810e5a2f-42b6-43c4-a281-9fa5ef5dbf97   EFM192A  NERATINIB   \n",
       "4   0.086323   res  810e5a2f-42b6-43c4-a281-9fa5ef5dbf97   EFM192A  NERATINIB   \n",
       "\n",
       "   PC1_flag  PC2_flag  any_flag  \n",
       "0       0.0       1.0       1.0  \n",
       "1       0.0       1.0       1.0  \n",
       "2       0.0       0.0       0.0  \n",
       "3       0.0       1.0       1.0  \n",
       "4       0.0       1.0       1.0  "
      ]
     },
     "execution_count": 12,
     "metadata": {},
     "output_type": "execute_result"
    }
   ],
   "source": [
    "mut_res2 = mut_res.merge(batch_sum, on=['batch', 'treatment'], how='left')\n",
    "mut_res2.head()"
   ]
  },
  {
   "cell_type": "code",
   "execution_count": 13,
   "id": "25eef9fe",
   "metadata": {},
   "outputs": [
    {
     "data": {
      "text/plain": [
       "array(['H210514_SET1', 'H210205_SET1_2'], dtype=object)"
      ]
     },
     "execution_count": 13,
     "metadata": {},
     "output_type": "execute_result"
    }
   ],
   "source": [
    "mut_res2[lambda x: x.PC1_flag.isna()].batch.unique()"
   ]
  },
  {
   "cell_type": "code",
   "execution_count": 14,
   "id": "085ed860",
   "metadata": {},
   "outputs": [
    {
     "data": {
      "text/plain": [
       "batch\n",
       "H210205_SET1_2     20\n",
       "H210205_SET2_2     20\n",
       "H210212_SET1       18\n",
       "H210212_SET2       20\n",
       "H210219_SET1       18\n",
       "H210219_SET2       20\n",
       "H210326_SET1       20\n",
       "H210326_SET2       20\n",
       "H210401_SET1       18\n",
       "H210401_SET2       18\n",
       "H210409_SET1       20\n",
       "H210409_SET2       20\n",
       "H210423_SET1       20\n",
       "H210514_SET1       20\n",
       "H210514_SET2       20\n",
       "H210521_SET1       20\n",
       "H210521_SET2       20\n",
       "H210528_SET1       18\n",
       "H210528_SET2       16\n",
       "H210604_SET1       20\n",
       "H210604_SET2       20\n",
       "H210618_SET1       20\n",
       "H210618_SET2       20\n",
       "H210820            14\n",
       "H210827_SET1       20\n",
       "H210827_SET2       20\n",
       "H210917_EFM192A    20\n",
       "Name: mutant, dtype: int64"
      ]
     },
     "execution_count": 14,
     "metadata": {},
     "output_type": "execute_result"
    }
   ],
   "source": [
    "mut_res.groupby('batch')['mutant'].count()"
   ]
  },
  {
   "cell_type": "code",
   "execution_count": 110,
   "id": "b54da225",
   "metadata": {},
   "outputs": [
    {
     "data": {
      "text/plain": [
       "(520, 11)"
      ]
     },
     "execution_count": 110,
     "metadata": {},
     "output_type": "execute_result"
    }
   ],
   "source": [
    "mut_res.shape"
   ]
  },
  {
   "cell_type": "code",
   "execution_count": 111,
   "id": "30341d1a",
   "metadata": {},
   "outputs": [
    {
     "data": {
      "text/plain": [
       "(520, 14)"
      ]
     },
     "execution_count": 111,
     "metadata": {},
     "output_type": "execute_result"
    }
   ],
   "source": [
    "mut_res2.shape"
   ]
  },
  {
   "cell_type": "code",
   "execution_count": null,
   "id": "0303cce6",
   "metadata": {},
   "outputs": [],
   "source": []
  },
  {
   "cell_type": "code",
   "execution_count": null,
   "id": "a98af421",
   "metadata": {},
   "outputs": [],
   "source": []
  },
  {
   "cell_type": "code",
   "execution_count": null,
   "id": "48a94cbd",
   "metadata": {},
   "outputs": [],
   "source": []
  },
  {
   "cell_type": "code",
   "execution_count": 20,
   "id": "3eff977a",
   "metadata": {},
   "outputs": [
    {
     "ename": "KeyError",
     "evalue": "'obs_id'",
     "output_type": "error",
     "traceback": [
      "\u001b[0;31m---------------------------------------------------------------------------\u001b[0m",
      "\u001b[0;31mKeyError\u001b[0m                                  Traceback (most recent call last)",
      "\u001b[0;32m~/miniconda3/envs/lc_reporter/lib/python3.9/site-packages/pandas/core/indexes/base.py\u001b[0m in \u001b[0;36mget_loc\u001b[0;34m(self, key, method, tolerance)\u001b[0m\n\u001b[1;32m   3360\u001b[0m             \u001b[0;32mtry\u001b[0m\u001b[0;34m:\u001b[0m\u001b[0;34m\u001b[0m\u001b[0;34m\u001b[0m\u001b[0m\n\u001b[0;32m-> 3361\u001b[0;31m                 \u001b[0;32mreturn\u001b[0m \u001b[0mself\u001b[0m\u001b[0;34m.\u001b[0m\u001b[0m_engine\u001b[0m\u001b[0;34m.\u001b[0m\u001b[0mget_loc\u001b[0m\u001b[0;34m(\u001b[0m\u001b[0mcasted_key\u001b[0m\u001b[0;34m)\u001b[0m\u001b[0;34m\u001b[0m\u001b[0;34m\u001b[0m\u001b[0m\n\u001b[0m\u001b[1;32m   3362\u001b[0m             \u001b[0;32mexcept\u001b[0m \u001b[0mKeyError\u001b[0m \u001b[0;32mas\u001b[0m \u001b[0merr\u001b[0m\u001b[0;34m:\u001b[0m\u001b[0;34m\u001b[0m\u001b[0;34m\u001b[0m\u001b[0m\n",
      "\u001b[0;32m~/miniconda3/envs/lc_reporter/lib/python3.9/site-packages/pandas/_libs/index.pyx\u001b[0m in \u001b[0;36mpandas._libs.index.IndexEngine.get_loc\u001b[0;34m()\u001b[0m\n",
      "\u001b[0;32m~/miniconda3/envs/lc_reporter/lib/python3.9/site-packages/pandas/_libs/index.pyx\u001b[0m in \u001b[0;36mpandas._libs.index.IndexEngine.get_loc\u001b[0;34m()\u001b[0m\n",
      "\u001b[0;32mpandas/_libs/hashtable_class_helper.pxi\u001b[0m in \u001b[0;36mpandas._libs.hashtable.PyObjectHashTable.get_item\u001b[0;34m()\u001b[0m\n",
      "\u001b[0;32mpandas/_libs/hashtable_class_helper.pxi\u001b[0m in \u001b[0;36mpandas._libs.hashtable.PyObjectHashTable.get_item\u001b[0;34m()\u001b[0m\n",
      "\u001b[0;31mKeyError\u001b[0m: 'obs_id'",
      "\nThe above exception was the direct cause of the following exception:\n",
      "\u001b[0;31mKeyError\u001b[0m                                  Traceback (most recent call last)",
      "\u001b[0;32m/tmp/ipykernel_7159/1420018694.py\u001b[0m in \u001b[0;36m<module>\u001b[0;34m\u001b[0m\n\u001b[1;32m     18\u001b[0m \u001b[0;31m#prob_res2 = prob_res[lambda x: x.run_id.isin(ids_tokeep)]\u001b[0m\u001b[0;34m\u001b[0m\u001b[0;34m\u001b[0m\u001b[0m\n\u001b[1;32m     19\u001b[0m \u001b[0;34m\u001b[0m\u001b[0m\n\u001b[0;32m---> 20\u001b[0;31m \u001b[0mprob_res2\u001b[0m \u001b[0;34m=\u001b[0m \u001b[0mmut_res\u001b[0m\u001b[0;34m.\u001b[0m\u001b[0mmerge\u001b[0m\u001b[0;34m(\u001b[0m\u001b[0mrun_res\u001b[0m\u001b[0;34m,\u001b[0m \u001b[0mon\u001b[0m\u001b[0;34m=\u001b[0m\u001b[0;34m'run_id'\u001b[0m\u001b[0;34m)\u001b[0m\u001b[0;34m.\u001b[0m\u001b[0mpivot\u001b[0m\u001b[0;34m(\u001b[0m\u001b[0mcolumns\u001b[0m\u001b[0;34m=\u001b[0m\u001b[0;34m'run_id'\u001b[0m\u001b[0;34m,\u001b[0m \u001b[0mindex\u001b[0m\u001b[0;34m=\u001b[0m\u001b[0;34m'obs_id'\u001b[0m\u001b[0;34m,\u001b[0m \u001b[0mvalues\u001b[0m\u001b[0;34m=\u001b[0m\u001b[0;34m'prob_res'\u001b[0m\u001b[0;34m)\u001b[0m\u001b[0;34m\u001b[0m\u001b[0;34m\u001b[0m\u001b[0m\n\u001b[0m\u001b[1;32m     21\u001b[0m \u001b[0mres_mat\u001b[0m \u001b[0;34m=\u001b[0m \u001b[0mprob_res2\u001b[0m\u001b[0;34m.\u001b[0m\u001b[0mcorr\u001b[0m\u001b[0;34m(\u001b[0m\u001b[0;34m)\u001b[0m\u001b[0;34m.\u001b[0m\u001b[0mfillna\u001b[0m\u001b[0;34m(\u001b[0m\u001b[0;36m0\u001b[0m\u001b[0;34m)\u001b[0m\u001b[0;34m\u001b[0m\u001b[0;34m\u001b[0m\u001b[0m\n\u001b[1;32m     22\u001b[0m \u001b[0msbn\u001b[0m\u001b[0;34m.\u001b[0m\u001b[0mclustermap\u001b[0m\u001b[0;34m(\u001b[0m\u001b[0mres_mat\u001b[0m\u001b[0;34m,\u001b[0m \u001b[0mvmin\u001b[0m\u001b[0;34m=\u001b[0m\u001b[0;34m-\u001b[0m\u001b[0;36m1\u001b[0m\u001b[0;34m,\u001b[0m \u001b[0mvmax\u001b[0m\u001b[0;34m=\u001b[0m\u001b[0;36m1\u001b[0m\u001b[0;34m,\u001b[0m \u001b[0mcenter\u001b[0m\u001b[0;34m=\u001b[0m\u001b[0;36m0\u001b[0m\u001b[0;34m,\u001b[0m \u001b[0mrow_colors\u001b[0m\u001b[0;34m=\u001b[0m\u001b[0mrow_colors\u001b[0m\u001b[0;34m,\u001b[0m \u001b[0mfigsize\u001b[0m\u001b[0;34m=\u001b[0m\u001b[0;34m(\u001b[0m\u001b[0;36m10\u001b[0m\u001b[0;34m,\u001b[0m\u001b[0;36m10\u001b[0m\u001b[0;34m)\u001b[0m\u001b[0;34m)\u001b[0m\u001b[0;34m\u001b[0m\u001b[0;34m\u001b[0m\u001b[0m\n",
      "\u001b[0;32m~/miniconda3/envs/lc_reporter/lib/python3.9/site-packages/pandas/core/frame.py\u001b[0m in \u001b[0;36mpivot\u001b[0;34m(self, index, columns, values)\u001b[0m\n\u001b[1;32m   7791\u001b[0m         \u001b[0;32mfrom\u001b[0m \u001b[0mpandas\u001b[0m\u001b[0;34m.\u001b[0m\u001b[0mcore\u001b[0m\u001b[0;34m.\u001b[0m\u001b[0mreshape\u001b[0m\u001b[0;34m.\u001b[0m\u001b[0mpivot\u001b[0m \u001b[0;32mimport\u001b[0m \u001b[0mpivot\u001b[0m\u001b[0;34m\u001b[0m\u001b[0;34m\u001b[0m\u001b[0m\n\u001b[1;32m   7792\u001b[0m \u001b[0;34m\u001b[0m\u001b[0m\n\u001b[0;32m-> 7793\u001b[0;31m         \u001b[0;32mreturn\u001b[0m \u001b[0mpivot\u001b[0m\u001b[0;34m(\u001b[0m\u001b[0mself\u001b[0m\u001b[0;34m,\u001b[0m \u001b[0mindex\u001b[0m\u001b[0;34m=\u001b[0m\u001b[0mindex\u001b[0m\u001b[0;34m,\u001b[0m \u001b[0mcolumns\u001b[0m\u001b[0;34m=\u001b[0m\u001b[0mcolumns\u001b[0m\u001b[0;34m,\u001b[0m \u001b[0mvalues\u001b[0m\u001b[0;34m=\u001b[0m\u001b[0mvalues\u001b[0m\u001b[0;34m)\u001b[0m\u001b[0;34m\u001b[0m\u001b[0;34m\u001b[0m\u001b[0m\n\u001b[0m\u001b[1;32m   7794\u001b[0m \u001b[0;34m\u001b[0m\u001b[0m\n\u001b[1;32m   7795\u001b[0m     _shared_docs[\n",
      "\u001b[0;32m~/miniconda3/envs/lc_reporter/lib/python3.9/site-packages/pandas/core/reshape/pivot.py\u001b[0m in \u001b[0;36mpivot\u001b[0;34m(data, index, columns, values)\u001b[0m\n\u001b[1;32m    501\u001b[0m             \u001b[0mindex_list\u001b[0m \u001b[0;34m=\u001b[0m \u001b[0;34m[\u001b[0m\u001b[0mSeries\u001b[0m\u001b[0;34m(\u001b[0m\u001b[0mdata\u001b[0m\u001b[0;34m.\u001b[0m\u001b[0mindex\u001b[0m\u001b[0;34m,\u001b[0m \u001b[0mname\u001b[0m\u001b[0;34m=\u001b[0m\u001b[0mdata\u001b[0m\u001b[0;34m.\u001b[0m\u001b[0mindex\u001b[0m\u001b[0;34m.\u001b[0m\u001b[0mname\u001b[0m\u001b[0;34m)\u001b[0m\u001b[0;34m]\u001b[0m\u001b[0;34m\u001b[0m\u001b[0;34m\u001b[0m\u001b[0m\n\u001b[1;32m    502\u001b[0m         \u001b[0;32melse\u001b[0m\u001b[0;34m:\u001b[0m\u001b[0;34m\u001b[0m\u001b[0;34m\u001b[0m\u001b[0m\n\u001b[0;32m--> 503\u001b[0;31m             \u001b[0mindex_list\u001b[0m \u001b[0;34m=\u001b[0m \u001b[0;34m[\u001b[0m\u001b[0mdata\u001b[0m\u001b[0;34m[\u001b[0m\u001b[0midx\u001b[0m\u001b[0;34m]\u001b[0m \u001b[0;32mfor\u001b[0m \u001b[0midx\u001b[0m \u001b[0;32min\u001b[0m \u001b[0mcom\u001b[0m\u001b[0;34m.\u001b[0m\u001b[0mconvert_to_list_like\u001b[0m\u001b[0;34m(\u001b[0m\u001b[0mindex\u001b[0m\u001b[0;34m)\u001b[0m\u001b[0;34m]\u001b[0m\u001b[0;34m\u001b[0m\u001b[0;34m\u001b[0m\u001b[0m\n\u001b[0m\u001b[1;32m    504\u001b[0m \u001b[0;34m\u001b[0m\u001b[0m\n\u001b[1;32m    505\u001b[0m         \u001b[0mdata_columns\u001b[0m \u001b[0;34m=\u001b[0m \u001b[0;34m[\u001b[0m\u001b[0mdata\u001b[0m\u001b[0;34m[\u001b[0m\u001b[0mcol\u001b[0m\u001b[0;34m]\u001b[0m \u001b[0;32mfor\u001b[0m \u001b[0mcol\u001b[0m \u001b[0;32min\u001b[0m \u001b[0mcolumns_listlike\u001b[0m\u001b[0;34m]\u001b[0m\u001b[0;34m\u001b[0m\u001b[0;34m\u001b[0m\u001b[0m\n",
      "\u001b[0;32m~/miniconda3/envs/lc_reporter/lib/python3.9/site-packages/pandas/core/reshape/pivot.py\u001b[0m in \u001b[0;36m<listcomp>\u001b[0;34m(.0)\u001b[0m\n\u001b[1;32m    501\u001b[0m             \u001b[0mindex_list\u001b[0m \u001b[0;34m=\u001b[0m \u001b[0;34m[\u001b[0m\u001b[0mSeries\u001b[0m\u001b[0;34m(\u001b[0m\u001b[0mdata\u001b[0m\u001b[0;34m.\u001b[0m\u001b[0mindex\u001b[0m\u001b[0;34m,\u001b[0m \u001b[0mname\u001b[0m\u001b[0;34m=\u001b[0m\u001b[0mdata\u001b[0m\u001b[0;34m.\u001b[0m\u001b[0mindex\u001b[0m\u001b[0;34m.\u001b[0m\u001b[0mname\u001b[0m\u001b[0;34m)\u001b[0m\u001b[0;34m]\u001b[0m\u001b[0;34m\u001b[0m\u001b[0;34m\u001b[0m\u001b[0m\n\u001b[1;32m    502\u001b[0m         \u001b[0;32melse\u001b[0m\u001b[0;34m:\u001b[0m\u001b[0;34m\u001b[0m\u001b[0;34m\u001b[0m\u001b[0m\n\u001b[0;32m--> 503\u001b[0;31m             \u001b[0mindex_list\u001b[0m \u001b[0;34m=\u001b[0m \u001b[0;34m[\u001b[0m\u001b[0mdata\u001b[0m\u001b[0;34m[\u001b[0m\u001b[0midx\u001b[0m\u001b[0;34m]\u001b[0m \u001b[0;32mfor\u001b[0m \u001b[0midx\u001b[0m \u001b[0;32min\u001b[0m \u001b[0mcom\u001b[0m\u001b[0;34m.\u001b[0m\u001b[0mconvert_to_list_like\u001b[0m\u001b[0;34m(\u001b[0m\u001b[0mindex\u001b[0m\u001b[0;34m)\u001b[0m\u001b[0;34m]\u001b[0m\u001b[0;34m\u001b[0m\u001b[0;34m\u001b[0m\u001b[0m\n\u001b[0m\u001b[1;32m    504\u001b[0m \u001b[0;34m\u001b[0m\u001b[0m\n\u001b[1;32m    505\u001b[0m         \u001b[0mdata_columns\u001b[0m \u001b[0;34m=\u001b[0m \u001b[0;34m[\u001b[0m\u001b[0mdata\u001b[0m\u001b[0;34m[\u001b[0m\u001b[0mcol\u001b[0m\u001b[0;34m]\u001b[0m \u001b[0;32mfor\u001b[0m \u001b[0mcol\u001b[0m \u001b[0;32min\u001b[0m \u001b[0mcolumns_listlike\u001b[0m\u001b[0;34m]\u001b[0m\u001b[0;34m\u001b[0m\u001b[0;34m\u001b[0m\u001b[0m\n",
      "\u001b[0;32m~/miniconda3/envs/lc_reporter/lib/python3.9/site-packages/pandas/core/frame.py\u001b[0m in \u001b[0;36m__getitem__\u001b[0;34m(self, key)\u001b[0m\n\u001b[1;32m   3456\u001b[0m             \u001b[0;32mif\u001b[0m \u001b[0mself\u001b[0m\u001b[0;34m.\u001b[0m\u001b[0mcolumns\u001b[0m\u001b[0;34m.\u001b[0m\u001b[0mnlevels\u001b[0m \u001b[0;34m>\u001b[0m \u001b[0;36m1\u001b[0m\u001b[0;34m:\u001b[0m\u001b[0;34m\u001b[0m\u001b[0;34m\u001b[0m\u001b[0m\n\u001b[1;32m   3457\u001b[0m                 \u001b[0;32mreturn\u001b[0m \u001b[0mself\u001b[0m\u001b[0;34m.\u001b[0m\u001b[0m_getitem_multilevel\u001b[0m\u001b[0;34m(\u001b[0m\u001b[0mkey\u001b[0m\u001b[0;34m)\u001b[0m\u001b[0;34m\u001b[0m\u001b[0;34m\u001b[0m\u001b[0m\n\u001b[0;32m-> 3458\u001b[0;31m             \u001b[0mindexer\u001b[0m \u001b[0;34m=\u001b[0m \u001b[0mself\u001b[0m\u001b[0;34m.\u001b[0m\u001b[0mcolumns\u001b[0m\u001b[0;34m.\u001b[0m\u001b[0mget_loc\u001b[0m\u001b[0;34m(\u001b[0m\u001b[0mkey\u001b[0m\u001b[0;34m)\u001b[0m\u001b[0;34m\u001b[0m\u001b[0;34m\u001b[0m\u001b[0m\n\u001b[0m\u001b[1;32m   3459\u001b[0m             \u001b[0;32mif\u001b[0m \u001b[0mis_integer\u001b[0m\u001b[0;34m(\u001b[0m\u001b[0mindexer\u001b[0m\u001b[0;34m)\u001b[0m\u001b[0;34m:\u001b[0m\u001b[0;34m\u001b[0m\u001b[0;34m\u001b[0m\u001b[0m\n\u001b[1;32m   3460\u001b[0m                 \u001b[0mindexer\u001b[0m \u001b[0;34m=\u001b[0m \u001b[0;34m[\u001b[0m\u001b[0mindexer\u001b[0m\u001b[0;34m]\u001b[0m\u001b[0;34m\u001b[0m\u001b[0;34m\u001b[0m\u001b[0m\n",
      "\u001b[0;32m~/miniconda3/envs/lc_reporter/lib/python3.9/site-packages/pandas/core/indexes/base.py\u001b[0m in \u001b[0;36mget_loc\u001b[0;34m(self, key, method, tolerance)\u001b[0m\n\u001b[1;32m   3361\u001b[0m                 \u001b[0;32mreturn\u001b[0m \u001b[0mself\u001b[0m\u001b[0;34m.\u001b[0m\u001b[0m_engine\u001b[0m\u001b[0;34m.\u001b[0m\u001b[0mget_loc\u001b[0m\u001b[0;34m(\u001b[0m\u001b[0mcasted_key\u001b[0m\u001b[0;34m)\u001b[0m\u001b[0;34m\u001b[0m\u001b[0;34m\u001b[0m\u001b[0m\n\u001b[1;32m   3362\u001b[0m             \u001b[0;32mexcept\u001b[0m \u001b[0mKeyError\u001b[0m \u001b[0;32mas\u001b[0m \u001b[0merr\u001b[0m\u001b[0;34m:\u001b[0m\u001b[0;34m\u001b[0m\u001b[0;34m\u001b[0m\u001b[0m\n\u001b[0;32m-> 3363\u001b[0;31m                 \u001b[0;32mraise\u001b[0m \u001b[0mKeyError\u001b[0m\u001b[0;34m(\u001b[0m\u001b[0mkey\u001b[0m\u001b[0;34m)\u001b[0m \u001b[0;32mfrom\u001b[0m \u001b[0merr\u001b[0m\u001b[0;34m\u001b[0m\u001b[0;34m\u001b[0m\u001b[0m\n\u001b[0m\u001b[1;32m   3364\u001b[0m \u001b[0;34m\u001b[0m\u001b[0m\n\u001b[1;32m   3365\u001b[0m         \u001b[0;32mif\u001b[0m \u001b[0mis_scalar\u001b[0m\u001b[0;34m(\u001b[0m\u001b[0mkey\u001b[0m\u001b[0;34m)\u001b[0m \u001b[0;32mand\u001b[0m \u001b[0misna\u001b[0m\u001b[0;34m(\u001b[0m\u001b[0mkey\u001b[0m\u001b[0;34m)\u001b[0m \u001b[0;32mand\u001b[0m \u001b[0;32mnot\u001b[0m \u001b[0mself\u001b[0m\u001b[0;34m.\u001b[0m\u001b[0mhasnans\u001b[0m\u001b[0;34m:\u001b[0m\u001b[0;34m\u001b[0m\u001b[0;34m\u001b[0m\u001b[0m\n",
      "\u001b[0;31mKeyError\u001b[0m: 'obs_id'"
     ]
    }
   ],
   "source": [
    "norm = lambda x, y: (x-min(y))/ (max(y) - min(y)) \n",
    "\n",
    "nclus_ = {row.run_id:[0., 1- norm(row.nclus,run_res.nclus),0., 0.5] for i,row in run_res.iterrows()}\n",
    "nclus_colors = run_res['run_id'].map(nclus_).rename('nclus')\n",
    "\n",
    "load_ = {row.run_id:'k' if (row.load == 'normalized') else 'w' for i,row in run_res.iterrows()}\n",
    "load_colors = run_res['run_id'].map(load_).rename('load')\n",
    "\n",
    "resamp_ = {row.run_id:[1 - norm(row.resample_sz,run_res.resample_sz), 0., 0., 0.5] for i,row in run_res.iterrows()}\n",
    "resamp_colors = run_res['run_id'].map(resamp_).rename('resample_sz')\n",
    "\n",
    "row_colors = pd.concat([nclus_colors, load_colors, resamp_colors], axis=1)\n",
    "row_colors = row_colors.set_index(run_res.run_id)\n",
    "\n",
    "#print(row_colors)\n",
    "\n",
    "#ids_tokeep = run_res[lambda x: (x.nclus < 35)].run_id.values\n",
    "#prob_res2 = prob_res[lambda x: x.run_id.isin(ids_tokeep)]\n",
    "\n",
    "prob_res2 = mut_res.merge(run_res, on='run_id').pivot(columns='run_id', index='obs_id', values='prob_res')\n",
    "res_mat = prob_res2.corr().fillna(0)\n",
    "sbn.clustermap(res_mat, vmin=-1, vmax=1, center=0, row_colors=row_colors, figsize=(10,10))"
   ]
  },
  {
   "cell_type": "markdown",
   "id": "8b73fcd5",
   "metadata": {},
   "source": [
    "# concordant calls"
   ]
  },
  {
   "cell_type": "code",
   "execution_count": 15,
   "id": "c2077ef1",
   "metadata": {},
   "outputs": [],
   "source": [
    "conc_calls = prob_res.groupby(['obs_id', 'call']).count()[['run_id']].reset_index().set_index('obs_id').pivot(columns='call', values='run_id').assign(prop_call_res=lambda x: x.res / (x.res + x.sens))"
   ]
  },
  {
   "cell_type": "code",
   "execution_count": 70,
   "id": "23851199",
   "metadata": {},
   "outputs": [
    {
     "data": {
      "image/png": "[encoded data removed]",
      "text/plain": [
       "<Figure size 432x288 with 1 Axes>"
      ]
     },
     "metadata": {
      "needs_background": "light"
     },
     "output_type": "display_data"
    }
   ],
   "source": [
    "plt.figure()\n",
    "plt.hist(conc_calls.prop_call_res)\n",
    "plt.xlabel('proportion of concordant resistant calls')\n",
    "plt.show()"
   ]
  },
  {
   "cell_type": "code",
   "execution_count": 17,
   "id": "a9aafc0d",
   "metadata": {},
   "outputs": [
    {
     "data": {
      "text/plain": [
       "12"
      ]
     },
     "execution_count": 17,
     "metadata": {},
     "output_type": "execute_result"
    }
   ],
   "source": [
    "np.sum( conc_calls.prop_call_res > 0.75 )"
   ]
  },
  {
   "cell_type": "code",
   "execution_count": 18,
   "id": "ac8fca45",
   "metadata": {},
   "outputs": [],
   "source": [
    "conc_res_obs_ids = conc_calls[conc_calls.prop_call_res > 0.75].reset_index().obs_id"
   ]
  },
  {
   "cell_type": "code",
   "execution_count": 19,
   "id": "46c9ab44",
   "metadata": {},
   "outputs": [
    {
     "data": {
      "text/plain": [
       "array(['G778S779insLPS', 'L755T759DEL', 'R456C', 'R678Q', 'T798I',\n",
       "       'V842I', 'Y835F'], dtype=object)"
      ]
     },
     "execution_count": 19,
     "metadata": {},
     "output_type": "execute_result"
    }
   ],
   "source": [
    "prob_res[lambda x: x.obs_id.isin(conc_res_obs_ids)].cell_line.unique()"
   ]
  },
  {
   "cell_type": "markdown",
   "id": "4c44b7a5",
   "metadata": {},
   "source": [
    "# Model variance \n",
    "\n",
    "Same config params, same results? "
   ]
  },
  {
   "cell_type": "code",
   "execution_count": 59,
   "id": "80256f82",
   "metadata": {},
   "outputs": [
    {
     "data": {
      "text/html": [
       "<div>\n",
       "<style scoped>\n",
       "    .dataframe tbody tr th:only-of-type {\n",
       "        vertical-align: middle;\n",
       "    }\n",
       "\n",
       "    .dataframe tbody tr th {\n",
       "        vertical-align: top;\n",
       "    }\n",
       "\n",
       "    .dataframe thead th {\n",
       "        text-align: right;\n",
       "    }\n",
       "</style>\n",
       "<table border=\"1\" class=\"dataframe\">\n",
       "  <thead>\n",
       "    <tr style=\"text-align: right;\">\n",
       "      <th></th>\n",
       "      <th>nclus</th>\n",
       "      <th>load</th>\n",
       "      <th>resample_sz</th>\n",
       "      <th>corr_mean</th>\n",
       "      <th>corr_std</th>\n",
       "      <th>corr_min</th>\n",
       "      <th>corr_max</th>\n",
       "      <th>corr_min_unit</th>\n",
       "    </tr>\n",
       "  </thead>\n",
       "  <tbody>\n",
       "    <tr>\n",
       "      <th>0</th>\n",
       "      <td>15</td>\n",
       "      <td>raw</td>\n",
       "      <td>75</td>\n",
       "      <td>0.935192</td>\n",
       "      <td>0.020712</td>\n",
       "      <td>0.905259</td>\n",
       "      <td>0.972514</td>\n",
       "      <td>0.905259</td>\n",
       "    </tr>\n",
       "    <tr>\n",
       "      <th>1</th>\n",
       "      <td>15</td>\n",
       "      <td>raw</td>\n",
       "      <td>150</td>\n",
       "      <td>0.938284</td>\n",
       "      <td>0.016595</td>\n",
       "      <td>0.902949</td>\n",
       "      <td>0.969040</td>\n",
       "      <td>0.902949</td>\n",
       "    </tr>\n",
       "    <tr>\n",
       "      <th>2</th>\n",
       "      <td>15</td>\n",
       "      <td>raw</td>\n",
       "      <td>125</td>\n",
       "      <td>0.949348</td>\n",
       "      <td>0.019311</td>\n",
       "      <td>0.919606</td>\n",
       "      <td>0.982665</td>\n",
       "      <td>0.919606</td>\n",
       "    </tr>\n",
       "    <tr>\n",
       "      <th>3</th>\n",
       "      <td>15</td>\n",
       "      <td>raw</td>\n",
       "      <td>50</td>\n",
       "      <td>0.908513</td>\n",
       "      <td>0.033114</td>\n",
       "      <td>0.834107</td>\n",
       "      <td>0.959517</td>\n",
       "      <td>0.834107</td>\n",
       "    </tr>\n",
       "    <tr>\n",
       "      <th>4</th>\n",
       "      <td>15</td>\n",
       "      <td>raw</td>\n",
       "      <td>100</td>\n",
       "      <td>0.938958</td>\n",
       "      <td>0.017862</td>\n",
       "      <td>0.906228</td>\n",
       "      <td>0.966396</td>\n",
       "      <td>0.906228</td>\n",
       "    </tr>\n",
       "  </tbody>\n",
       "</table>\n",
       "</div>"
      ],
      "text/plain": [
       "   nclus load  resample_sz  corr_mean  corr_std  corr_min  corr_max  \\\n",
       "0     15  raw           75   0.935192  0.020712  0.905259  0.972514   \n",
       "1     15  raw          150   0.938284  0.016595  0.902949  0.969040   \n",
       "2     15  raw          125   0.949348  0.019311  0.919606  0.982665   \n",
       "3     15  raw           50   0.908513  0.033114  0.834107  0.959517   \n",
       "4     15  raw          100   0.938958  0.017862  0.906228  0.966396   \n",
       "\n",
       "   corr_min_unit  \n",
       "0       0.905259  \n",
       "1       0.902949  \n",
       "2       0.919606  \n",
       "3       0.834107  \n",
       "4       0.906228  "
      ]
     },
     "execution_count": 59,
     "metadata": {},
     "output_type": "execute_result"
    }
   ],
   "source": [
    "def get_model_variance_stats(nclus, load, sz): \n",
    "    \n",
    "    _ids = run_res[lambda x: (x.nclus==nclus) & (x.load == load) & (x.resample_sz == sz)].run_id\n",
    "    mvar_ = prob_res[lambda x: x.run_id.isin(_ids)]\n",
    "    mvar_res = mvar_[['run_id', 'obs_id', 'prob_res']].pivot(columns='run_id', values='prob_res', index='obs_id')\n",
    "    mvar_mat = mvar_res.corr()\n",
    "\n",
    "    triu_idx = np.triu_indices(mvar_mat.shape[0], k=1)\n",
    "    corrs = mvar_mat.values[triu_idx]\n",
    "    corr_mean = corrs.mean()\n",
    "    corr_std = corrs.std()\n",
    "    corr_min = corrs.min()\n",
    "    corr_max = corrs.max()\n",
    "    return corr_mean, corr_std, corr_min, corr_max\n",
    "\n",
    "var_res = {'nclus':[], 'load':[], 'resample_sz':[], 'corr_mean':[], 'corr_std':[], 'corr_min':[], 'corr_max':[]}\n",
    "for nc in run_res.nclus.unique(): \n",
    "    for l in run_res.load.unique(): \n",
    "        for sz in run_res.resample_sz.unique(): \n",
    "            corr_mean, corr_std, corr_min, corr_max = get_model_variance_stats(nc, l, sz)\n",
    "            var_res['nclus'].append(nc)\n",
    "            var_res['load'].append(l)\n",
    "            var_res['resample_sz'].append(sz)\n",
    "            var_res['corr_mean'].append(corr_mean)\n",
    "            var_res['corr_std'].append(corr_std)\n",
    "            var_res['corr_min'].append(corr_min)\n",
    "            var_res['corr_max'].append(corr_max)\n",
    "            \n",
    "var_res = pd.DataFrame(var_res).assign(corr_min_unit = lambda x: x.corr_min.clip(0,1))\n",
    "var_res.head()"
   ]
  },
  {
   "cell_type": "code",
   "execution_count": 60,
   "id": "d23bf816",
   "metadata": {},
   "outputs": [
    {
     "name": "stdout",
     "output_type": "stream",
     "text": [
      "Optimization terminated successfully.\n",
      "         Current function value: 0.197250\n",
      "         Iterations 7\n",
      "Intercept      4.222236\n",
      "load[T.raw]   -0.420407\n",
      "nclus         -0.162454\n",
      "resample_sz    0.002738\n",
      "dtype: float64\n",
      "\n",
      "                    0         1\n",
      "Intercept    1.429946  7.014527\n",
      "load[T.raw] -1.919332  1.078518\n",
      "nclus       -0.229108 -0.095800\n",
      "resample_sz -0.018269  0.023746\n"
     ]
    }
   ],
   "source": [
    "lm = logit('corr_min_unit ~ nclus + resample_sz + load', data=var_res).fit() #Specify C for Categorical\n",
    "print(lm.params)\n",
    "print()\n",
    "print(lm.conf_int())\n",
    "#print()\n",
    "#print(sm.stats.anova_lm(lm))"
   ]
  },
  {
   "cell_type": "code",
   "execution_count": 61,
   "id": "c27d04de",
   "metadata": {},
   "outputs": [
    {
     "data": {
      "image/png": "[encoded data removed]",
      "text/plain": [
       "<Figure size 504x504 with 1 Axes>"
      ]
     },
     "metadata": {
      "needs_background": "light"
     },
     "output_type": "display_data"
    }
   ],
   "source": [
    "plt.figure(figsize=(7,7))\n",
    "sbn.regplot(x='nclus', y='corr_min_unit', data=var_res, logistic=True)\n",
    "#plt.legend(bbox_to_anchor=(1.05, 1), loc=2, borderaxespad=0.)\n",
    "plt.show()"
   ]
  },
  {
   "cell_type": "code",
   "execution_count": 54,
   "id": "ee887c16",
   "metadata": {},
   "outputs": [
    {
     "name": "stderr",
     "output_type": "stream",
     "text": [
      "No handles with labels found to put in legend.\n"
     ]
    },
    {
     "data": {
      "image/png": "[encoded data removed]",
      "text/plain": [
       "<Figure size 504x504 with 1 Axes>"
      ]
     },
     "metadata": {
      "needs_background": "light"
     },
     "output_type": "display_data"
    }
   ],
   "source": [
    "plt.figure(figsize=(7,7))\n",
    "sbn.regplot(x='resample_sz', y='corr_min', data=var_res, logistic=True)\n",
    "plt.legend(bbox_to_anchor=(1.05, 1), loc=2, borderaxespad=0.)\n",
    "plt.show()"
   ]
  },
  {
   "cell_type": "code",
   "execution_count": 41,
   "id": "1691f673",
   "metadata": {},
   "outputs": [
    {
     "name": "stderr",
     "output_type": "stream",
     "text": [
      "No handles with labels found to put in legend.\n"
     ]
    },
    {
     "data": {
      "image/png": "[encoded data removed]",
      "text/plain": [
       "<Figure size 504x504 with 1 Axes>"
      ]
     },
     "metadata": {
      "needs_background": "light"
     },
     "output_type": "display_data"
    }
   ],
   "source": [
    "plt.figure(figsize=(7,7))\n",
    "sbn.scatterplot(x='load', y='corr_min', data=var_res)\n",
    "plt.legend(bbox_to_anchor=(1.05, 1), loc=2, borderaxespad=0.)\n",
    "plt.show()"
   ]
  },
  {
   "cell_type": "markdown",
   "id": "c334ae2a",
   "metadata": {},
   "source": [
    "# Stable Configs\n"
   ]
  },
  {
   "cell_type": "code",
   "execution_count": 71,
   "id": "f1132b01",
   "metadata": {},
   "outputs": [
    {
     "data": {
      "text/html": [
       "<div>\n",
       "<style scoped>\n",
       "    .dataframe tbody tr th:only-of-type {\n",
       "        vertical-align: middle;\n",
       "    }\n",
       "\n",
       "    .dataframe tbody tr th {\n",
       "        vertical-align: top;\n",
       "    }\n",
       "\n",
       "    .dataframe thead th {\n",
       "        text-align: right;\n",
       "    }\n",
       "</style>\n",
       "<table border=\"1\" class=\"dataframe\">\n",
       "  <thead>\n",
       "    <tr style=\"text-align: right;\">\n",
       "      <th></th>\n",
       "      <th>nclus</th>\n",
       "      <th>load</th>\n",
       "      <th>resample_sz</th>\n",
       "      <th>corr_mean</th>\n",
       "      <th>corr_std</th>\n",
       "      <th>corr_min</th>\n",
       "      <th>corr_max</th>\n",
       "      <th>corr_min_unit</th>\n",
       "    </tr>\n",
       "  </thead>\n",
       "  <tbody>\n",
       "    <tr>\n",
       "      <th>0</th>\n",
       "      <td>15</td>\n",
       "      <td>raw</td>\n",
       "      <td>75</td>\n",
       "      <td>0.935192</td>\n",
       "      <td>0.020712</td>\n",
       "      <td>0.905259</td>\n",
       "      <td>0.972514</td>\n",
       "      <td>0.905259</td>\n",
       "    </tr>\n",
       "    <tr>\n",
       "      <th>1</th>\n",
       "      <td>15</td>\n",
       "      <td>raw</td>\n",
       "      <td>150</td>\n",
       "      <td>0.938284</td>\n",
       "      <td>0.016595</td>\n",
       "      <td>0.902949</td>\n",
       "      <td>0.969040</td>\n",
       "      <td>0.902949</td>\n",
       "    </tr>\n",
       "    <tr>\n",
       "      <th>2</th>\n",
       "      <td>15</td>\n",
       "      <td>raw</td>\n",
       "      <td>125</td>\n",
       "      <td>0.949348</td>\n",
       "      <td>0.019311</td>\n",
       "      <td>0.919606</td>\n",
       "      <td>0.982665</td>\n",
       "      <td>0.919606</td>\n",
       "    </tr>\n",
       "    <tr>\n",
       "      <th>3</th>\n",
       "      <td>15</td>\n",
       "      <td>raw</td>\n",
       "      <td>50</td>\n",
       "      <td>0.908513</td>\n",
       "      <td>0.033114</td>\n",
       "      <td>0.834107</td>\n",
       "      <td>0.959517</td>\n",
       "      <td>0.834107</td>\n",
       "    </tr>\n",
       "    <tr>\n",
       "      <th>4</th>\n",
       "      <td>15</td>\n",
       "      <td>raw</td>\n",
       "      <td>100</td>\n",
       "      <td>0.938958</td>\n",
       "      <td>0.017862</td>\n",
       "      <td>0.906228</td>\n",
       "      <td>0.966396</td>\n",
       "      <td>0.906228</td>\n",
       "    </tr>\n",
       "  </tbody>\n",
       "</table>\n",
       "</div>"
      ],
      "text/plain": [
       "   nclus load  resample_sz  corr_mean  corr_std  corr_min  corr_max  \\\n",
       "0     15  raw           75   0.935192  0.020712  0.905259  0.972514   \n",
       "1     15  raw          150   0.938284  0.016595  0.902949  0.969040   \n",
       "2     15  raw          125   0.949348  0.019311  0.919606  0.982665   \n",
       "3     15  raw           50   0.908513  0.033114  0.834107  0.959517   \n",
       "4     15  raw          100   0.938958  0.017862  0.906228  0.966396   \n",
       "\n",
       "   corr_min_unit  \n",
       "0       0.905259  \n",
       "1       0.902949  \n",
       "2       0.919606  \n",
       "3       0.834107  \n",
       "4       0.906228  "
      ]
     },
     "execution_count": 71,
     "metadata": {},
     "output_type": "execute_result"
    }
   ],
   "source": [
    "var_res.head()"
   ]
  },
  {
   "cell_type": "code",
   "execution_count": 113,
   "id": "07709ec9",
   "metadata": {},
   "outputs": [
    {
     "data": {
      "image/png": "[encoded data removed]",
      "text/plain": [
       "<Figure size 720x720 with 2 Axes>"
      ]
     },
     "metadata": {
      "needs_background": "light"
     },
     "output_type": "display_data"
    }
   ],
   "source": [
    "var_res2 = var_res[lambda x: x.corr_min > 0.85][['resample_sz', 'nclus', 'load']].groupby(['resample_sz', 'nclus']).agg('-'.join).reset_index()\n",
    "var_mat = var_res2.assign(load= [0 if x=='raw' else (1 if x=='normalized' else 0.5) for x in var_res2.load])\n",
    "labels = var_res2.assign(load= ['R' if x=='raw' else ('N' if x=='normalized' else 'R/N') for x in var_res2.load]).pivot(columns='resample_sz', index='nclus', values='load')\n",
    "var_mat = var_mat.pivot(columns='resample_sz', index='nclus', values='load')\n",
    "\n",
    "plt.figure(figsize=(10,10))\n",
    "sbn.heatmap(var_mat, linewidths=.5, annot=labels.values, fmt='', vmin=0, vmax=1, center=0.5)\n",
    "plt.show()"
   ]
  },
  {
   "cell_type": "code",
   "execution_count": 139,
   "id": "04b97ffe",
   "metadata": {},
   "outputs": [
    {
     "data": {
      "text/html": [
       "<div>\n",
       "<style scoped>\n",
       "    .dataframe tbody tr th:only-of-type {\n",
       "        vertical-align: middle;\n",
       "    }\n",
       "\n",
       "    .dataframe tbody tr th {\n",
       "        vertical-align: top;\n",
       "    }\n",
       "\n",
       "    .dataframe thead th {\n",
       "        text-align: right;\n",
       "    }\n",
       "</style>\n",
       "<table border=\"1\" class=\"dataframe\">\n",
       "  <thead>\n",
       "    <tr style=\"text-align: right;\">\n",
       "      <th></th>\n",
       "      <th></th>\n",
       "      <th>load</th>\n",
       "    </tr>\n",
       "    <tr>\n",
       "      <th>resample_sz</th>\n",
       "      <th>nclus</th>\n",
       "      <th></th>\n",
       "    </tr>\n",
       "  </thead>\n",
       "  <tbody>\n",
       "    <tr>\n",
       "      <th rowspan=\"3\" valign=\"top\">50</th>\n",
       "      <th>2</th>\n",
       "      <td>1.0</td>\n",
       "    </tr>\n",
       "    <tr>\n",
       "      <th>3</th>\n",
       "      <td>1.0</td>\n",
       "    </tr>\n",
       "    <tr>\n",
       "      <th>10</th>\n",
       "      <td>1.0</td>\n",
       "    </tr>\n",
       "    <tr>\n",
       "      <th rowspan=\"4\" valign=\"top\">75</th>\n",
       "      <th>2</th>\n",
       "      <td>1.0</td>\n",
       "    </tr>\n",
       "    <tr>\n",
       "      <th>3</th>\n",
       "      <td>0.5</td>\n",
       "    </tr>\n",
       "    <tr>\n",
       "      <th>10</th>\n",
       "      <td>1.0</td>\n",
       "    </tr>\n",
       "    <tr>\n",
       "      <th>15</th>\n",
       "      <td>1.0</td>\n",
       "    </tr>\n",
       "    <tr>\n",
       "      <th rowspan=\"3\" valign=\"top\">100</th>\n",
       "      <th>2</th>\n",
       "      <td>1.0</td>\n",
       "    </tr>\n",
       "    <tr>\n",
       "      <th>3</th>\n",
       "      <td>1.0</td>\n",
       "    </tr>\n",
       "    <tr>\n",
       "      <th>10</th>\n",
       "      <td>1.0</td>\n",
       "    </tr>\n",
       "    <tr>\n",
       "      <th rowspan=\"4\" valign=\"top\">125</th>\n",
       "      <th>2</th>\n",
       "      <td>1.0</td>\n",
       "    </tr>\n",
       "    <tr>\n",
       "      <th>3</th>\n",
       "      <td>0.5</td>\n",
       "    </tr>\n",
       "    <tr>\n",
       "      <th>10</th>\n",
       "      <td>1.0</td>\n",
       "    </tr>\n",
       "    <tr>\n",
       "      <th>15</th>\n",
       "      <td>1.0</td>\n",
       "    </tr>\n",
       "    <tr>\n",
       "      <th rowspan=\"4\" valign=\"top\">150</th>\n",
       "      <th>2</th>\n",
       "      <td>1.0</td>\n",
       "    </tr>\n",
       "    <tr>\n",
       "      <th>3</th>\n",
       "      <td>0.5</td>\n",
       "    </tr>\n",
       "    <tr>\n",
       "      <th>10</th>\n",
       "      <td>1.0</td>\n",
       "    </tr>\n",
       "    <tr>\n",
       "      <th>15</th>\n",
       "      <td>1.0</td>\n",
       "    </tr>\n",
       "  </tbody>\n",
       "</table>\n",
       "</div>"
      ],
      "text/plain": [
       "                   load\n",
       "resample_sz nclus      \n",
       "50          2       1.0\n",
       "            3       1.0\n",
       "            10      1.0\n",
       "75          2       1.0\n",
       "            3       0.5\n",
       "            10      1.0\n",
       "            15      1.0\n",
       "100         2       1.0\n",
       "            3       1.0\n",
       "            10      1.0\n",
       "125         2       1.0\n",
       "            3       0.5\n",
       "            10      1.0\n",
       "            15      1.0\n",
       "150         2       1.0\n",
       "            3       0.5\n",
       "            10      1.0\n",
       "            15      1.0"
      ]
     },
     "execution_count": 139,
     "metadata": {},
     "output_type": "execute_result"
    }
   ],
   "source": [
    "acc_mat"
   ]
  },
  {
   "cell_type": "code",
   "execution_count": 142,
   "id": "c38a9544",
   "metadata": {},
   "outputs": [
    {
     "data": {
      "image/png": "[encoded data removed]",
      "text/plain": [
       "<Figure size 720x720 with 2 Axes>"
      ]
     },
     "metadata": {
      "needs_background": "light"
     },
     "output_type": "display_data"
    }
   ],
   "source": [
    "hi_ac = run_res.groupby(['nclus', 'resample_sz', 'load']).agg('mean')[['accuracy(train)']][lambda x: x['accuracy(train)'] == 1.]\n",
    "\n",
    "hi_ac = hi_ac.reset_index()[['nclus', 'resample_sz', 'load']].groupby(['resample_sz', 'nclus']).agg('-'.join).reset_index()\n",
    "\n",
    "acc_mat = hi_ac.assign(load= [0 if x=='raw' else (1 if x=='normalized' else 0.5) for x in hi_ac.load]).pivot(columns='resample_sz', index='nclus', values='load')\n",
    "labels = hi_ac.assign(load= ['R' if x=='raw' else ('N' if x=='normalized' else 'R/N') for x in hi_ac.load]).pivot(columns='resample_sz', index='nclus', values='load')\n",
    "\n",
    "plt.figure(figsize=(10,10))\n",
    "sbn.heatmap(acc_mat, linewidths=.5, annot=labels.values, fmt='', vmin=0, vmax=1, center=0.5)\n",
    "plt.show()"
   ]
  },
  {
   "cell_type": "code",
   "execution_count": 121,
   "id": "af0b1a78",
   "metadata": {},
   "outputs": [
    {
     "data": {
      "text/html": [
       "<div>\n",
       "<style scoped>\n",
       "    .dataframe tbody tr th:only-of-type {\n",
       "        vertical-align: middle;\n",
       "    }\n",
       "\n",
       "    .dataframe tbody tr th {\n",
       "        vertical-align: top;\n",
       "    }\n",
       "\n",
       "    .dataframe thead th {\n",
       "        text-align: right;\n",
       "    }\n",
       "</style>\n",
       "<table border=\"1\" class=\"dataframe\">\n",
       "  <thead>\n",
       "    <tr style=\"text-align: right;\">\n",
       "      <th></th>\n",
       "      <th></th>\n",
       "      <th></th>\n",
       "      <th>accuracy(train)</th>\n",
       "    </tr>\n",
       "    <tr>\n",
       "      <th>nclus</th>\n",
       "      <th>resample_sz</th>\n",
       "      <th>load</th>\n",
       "      <th></th>\n",
       "    </tr>\n",
       "  </thead>\n",
       "  <tbody>\n",
       "    <tr>\n",
       "      <th rowspan=\"5\" valign=\"top\">2</th>\n",
       "      <th>50</th>\n",
       "      <th>normalized</th>\n",
       "      <td>1.0</td>\n",
       "    </tr>\n",
       "    <tr>\n",
       "      <th>75</th>\n",
       "      <th>normalized</th>\n",
       "      <td>1.0</td>\n",
       "    </tr>\n",
       "    <tr>\n",
       "      <th>100</th>\n",
       "      <th>normalized</th>\n",
       "      <td>1.0</td>\n",
       "    </tr>\n",
       "    <tr>\n",
       "      <th>125</th>\n",
       "      <th>normalized</th>\n",
       "      <td>1.0</td>\n",
       "    </tr>\n",
       "    <tr>\n",
       "      <th>150</th>\n",
       "      <th>normalized</th>\n",
       "      <td>1.0</td>\n",
       "    </tr>\n",
       "    <tr>\n",
       "      <th rowspan=\"8\" valign=\"top\">3</th>\n",
       "      <th>50</th>\n",
       "      <th>normalized</th>\n",
       "      <td>1.0</td>\n",
       "    </tr>\n",
       "    <tr>\n",
       "      <th rowspan=\"2\" valign=\"top\">75</th>\n",
       "      <th>normalized</th>\n",
       "      <td>1.0</td>\n",
       "    </tr>\n",
       "    <tr>\n",
       "      <th>raw</th>\n",
       "      <td>1.0</td>\n",
       "    </tr>\n",
       "    <tr>\n",
       "      <th>100</th>\n",
       "      <th>normalized</th>\n",
       "      <td>1.0</td>\n",
       "    </tr>\n",
       "    <tr>\n",
       "      <th rowspan=\"2\" valign=\"top\">125</th>\n",
       "      <th>normalized</th>\n",
       "      <td>1.0</td>\n",
       "    </tr>\n",
       "    <tr>\n",
       "      <th>raw</th>\n",
       "      <td>1.0</td>\n",
       "    </tr>\n",
       "    <tr>\n",
       "      <th rowspan=\"2\" valign=\"top\">150</th>\n",
       "      <th>normalized</th>\n",
       "      <td>1.0</td>\n",
       "    </tr>\n",
       "    <tr>\n",
       "      <th>raw</th>\n",
       "      <td>1.0</td>\n",
       "    </tr>\n",
       "    <tr>\n",
       "      <th rowspan=\"5\" valign=\"top\">10</th>\n",
       "      <th>50</th>\n",
       "      <th>normalized</th>\n",
       "      <td>1.0</td>\n",
       "    </tr>\n",
       "    <tr>\n",
       "      <th>75</th>\n",
       "      <th>normalized</th>\n",
       "      <td>1.0</td>\n",
       "    </tr>\n",
       "    <tr>\n",
       "      <th>100</th>\n",
       "      <th>normalized</th>\n",
       "      <td>1.0</td>\n",
       "    </tr>\n",
       "    <tr>\n",
       "      <th>125</th>\n",
       "      <th>normalized</th>\n",
       "      <td>1.0</td>\n",
       "    </tr>\n",
       "    <tr>\n",
       "      <th>150</th>\n",
       "      <th>normalized</th>\n",
       "      <td>1.0</td>\n",
       "    </tr>\n",
       "    <tr>\n",
       "      <th rowspan=\"3\" valign=\"top\">15</th>\n",
       "      <th>75</th>\n",
       "      <th>normalized</th>\n",
       "      <td>1.0</td>\n",
       "    </tr>\n",
       "    <tr>\n",
       "      <th>125</th>\n",
       "      <th>normalized</th>\n",
       "      <td>1.0</td>\n",
       "    </tr>\n",
       "    <tr>\n",
       "      <th>150</th>\n",
       "      <th>normalized</th>\n",
       "      <td>1.0</td>\n",
       "    </tr>\n",
       "  </tbody>\n",
       "</table>\n",
       "</div>"
      ],
      "text/plain": [
       "                              accuracy(train)\n",
       "nclus resample_sz load                       \n",
       "2     50          normalized              1.0\n",
       "      75          normalized              1.0\n",
       "      100         normalized              1.0\n",
       "      125         normalized              1.0\n",
       "      150         normalized              1.0\n",
       "3     50          normalized              1.0\n",
       "      75          normalized              1.0\n",
       "                  raw                     1.0\n",
       "      100         normalized              1.0\n",
       "      125         normalized              1.0\n",
       "                  raw                     1.0\n",
       "      150         normalized              1.0\n",
       "                  raw                     1.0\n",
       "10    50          normalized              1.0\n",
       "      75          normalized              1.0\n",
       "      100         normalized              1.0\n",
       "      125         normalized              1.0\n",
       "      150         normalized              1.0\n",
       "15    75          normalized              1.0\n",
       "      125         normalized              1.0\n",
       "      150         normalized              1.0"
      ]
     },
     "execution_count": 121,
     "metadata": {},
     "output_type": "execute_result"
    }
   ],
   "source": [
    "\n",
    "\n",
    "plt.figure(figsize=(10,10))\n",
    "sbn.heatmap(var_mat, linewidths=.5, annot=labels.values, fmt='', vmin=0, vmax=1, center=0.5)\n",
    "plt.show()"
   ]
  },
  {
   "cell_type": "code",
   "execution_count": null,
   "id": "ccc99d51",
   "metadata": {},
   "outputs": [],
   "source": []
  }
 ],
 "metadata": {
  "kernelspec": {
   "display_name": "Python 3",
   "language": "python",
   "name": "python3"
  },
  "language_info": {
   "codemirror_mode": {
    "name": "ipython",
    "version": 3
   },
   "file_extension": ".py",
   "mimetype": "text/x-python",
   "name": "python",
   "nbconvert_exporter": "python",
   "pygments_lexer": "ipython3",
   "version": "3.9.7"
  }
 },
 "nbformat": 4,
 "nbformat_minor": 5
}
