{
 "cells": [
  {
   "cell_type": "code",
   "execution_count": 1,
   "metadata": {},
   "outputs": [],
   "source": [
    "import numpy as np \n",
    "import pandas as pd\n",
    "from matplotlib import pyplot as plt \n",
    "\n",
    "from tslearn.clustering import TimeSeriesKMeans, KernelKMeans\n",
    "from tslearn.metrics import dtw\n",
    "\n",
    "from tslearn.preprocessing import TimeSeriesScalerMeanVariance, TimeSeriesResampler\n",
    "from tslearn.datasets import CachedDatasets\n",
    "\n",
    "from sklearn.metrics import confusion_matrix, ConfusionMatrixDisplay\n",
    "from sklearn.preprocessing import LabelEncoder\n",
    "\n",
    "from sklearn.decomposition import PCA, KernelPCA\n",
    "from sklearn.manifold import TSNE\n",
    "import seaborn as sbn\n",
    "\n",
    "from sklearn.svm import SVC\n",
    "from sklearn.feature_selection import RFE\n",
    "\n",
    "import os\n",
    "\n",
    "from sklearn.metrics import accuracy_score\n",
    "from sklearn.linear_model import LogisticRegression\n",
    "from sklearn.svm import SVC\n",
    "from sklearn.gaussian_process import GaussianProcessClassifier\n",
    "from sklearn.gaussian_process.kernels import RBF\n",
    "from sklearn import datasets\n",
    "\n",
    "#from kneed import KneeLocator\n",
    "\n",
    "#from tslearn.preprocessing import TimeSeriesScalerMinMax\n",
    "#from tslearn.shapelets import LearningShapelets\n",
    "#from tensorflow.keras.optimizers import Adam"
   ]
  },
  {
   "cell_type": "code",
   "execution_count": 2,
   "metadata": {},
   "outputs": [
    {
     "data": {
      "text/plain": [
       "['H210122_SKBR3',\n",
       " 'H210205_Set1',\n",
       " 'H210205_Set2',\n",
       " 'H210212_Set1',\n",
       " 'H210212_Set2',\n",
       " 'H210219_Set1',\n",
       " 'H210219_Set2']"
      ]
     },
     "execution_count": 2,
     "metadata": {},
     "output_type": "execute_result"
    }
   ],
   "source": [
    "os.listdir('../data/HER2/')"
   ]
  },
  {
   "cell_type": "code",
   "execution_count": 3,
   "metadata": {},
   "outputs": [
    {
     "data": {
      "text/html": [
       "<div>\n",
       "<style scoped>\n",
       "    .dataframe tbody tr th:only-of-type {\n",
       "        vertical-align: middle;\n",
       "    }\n",
       "\n",
       "    .dataframe tbody tr th {\n",
       "        vertical-align: top;\n",
       "    }\n",
       "\n",
       "    .dataframe thead th {\n",
       "        text-align: right;\n",
       "    }\n",
       "</style>\n",
       "<table border=\"1\" class=\"dataframe\">\n",
       "  <thead>\n",
       "    <tr style=\"text-align: right;\">\n",
       "      <th></th>\n",
       "      <th>track_index</th>\n",
       "      <th>0.0_x</th>\n",
       "      <th>0.2_x</th>\n",
       "      <th>0.5_x</th>\n",
       "      <th>0.8_x</th>\n",
       "      <th>1.0_x</th>\n",
       "      <th>1.2_x</th>\n",
       "      <th>1.5_x</th>\n",
       "      <th>1.8_x</th>\n",
       "      <th>2.0_x</th>\n",
       "      <th>...</th>\n",
       "      <th>57.5_y</th>\n",
       "      <th>57.8_y</th>\n",
       "      <th>58.0_y</th>\n",
       "      <th>58.2_y</th>\n",
       "      <th>site_y</th>\n",
       "      <th>median_y</th>\n",
       "      <th>dataset</th>\n",
       "      <th>drug</th>\n",
       "      <th>cell_line</th>\n",
       "      <th>mutant</th>\n",
       "    </tr>\n",
       "  </thead>\n",
       "  <tbody>\n",
       "    <tr>\n",
       "      <th>0</th>\n",
       "      <td>69_1000049620_skbr3_erk_akt__WT_untreated</td>\n",
       "      <td>0.784316</td>\n",
       "      <td>0.786841</td>\n",
       "      <td>0.603200</td>\n",
       "      <td>0.541081</td>\n",
       "      <td>0.458533</td>\n",
       "      <td>0.431992</td>\n",
       "      <td>0.712106</td>\n",
       "      <td>0.699950</td>\n",
       "      <td>0.730170</td>\n",
       "      <td>...</td>\n",
       "      <td>0.242807</td>\n",
       "      <td>0.127572</td>\n",
       "      <td>0.132009</td>\n",
       "      <td>0.047259</td>\n",
       "      <td>69</td>\n",
       "      <td>0.299107</td>\n",
       "      <td>H210122_SKBR3</td>\n",
       "      <td>untreated</td>\n",
       "      <td>skbr3</td>\n",
       "      <td>WT</td>\n",
       "    </tr>\n",
       "    <tr>\n",
       "      <th>1</th>\n",
       "      <td>2_1000028311_skbr3_erk_akt__WT_untreated</td>\n",
       "      <td>0.602541</td>\n",
       "      <td>0.605066</td>\n",
       "      <td>0.421425</td>\n",
       "      <td>0.605618</td>\n",
       "      <td>0.691947</td>\n",
       "      <td>0.672889</td>\n",
       "      <td>0.614016</td>\n",
       "      <td>0.661317</td>\n",
       "      <td>0.682537</td>\n",
       "      <td>...</td>\n",
       "      <td>0.557662</td>\n",
       "      <td>0.562536</td>\n",
       "      <td>0.564215</td>\n",
       "      <td>0.564624</td>\n",
       "      <td>2</td>\n",
       "      <td>0.693558</td>\n",
       "      <td>H210122_SKBR3</td>\n",
       "      <td>untreated</td>\n",
       "      <td>skbr3</td>\n",
       "      <td>WT</td>\n",
       "    </tr>\n",
       "    <tr>\n",
       "      <th>2</th>\n",
       "      <td>69_1000046124_skbr3_erk_akt__WT_untreated</td>\n",
       "      <td>0.777447</td>\n",
       "      <td>0.753066</td>\n",
       "      <td>0.476562</td>\n",
       "      <td>0.595350</td>\n",
       "      <td>0.605771</td>\n",
       "      <td>0.767272</td>\n",
       "      <td>0.737938</td>\n",
       "      <td>0.733756</td>\n",
       "      <td>0.776656</td>\n",
       "      <td>...</td>\n",
       "      <td>0.522485</td>\n",
       "      <td>0.451602</td>\n",
       "      <td>0.484998</td>\n",
       "      <td>0.550944</td>\n",
       "      <td>69</td>\n",
       "      <td>0.509604</td>\n",
       "      <td>H210122_SKBR3</td>\n",
       "      <td>untreated</td>\n",
       "      <td>skbr3</td>\n",
       "      <td>WT</td>\n",
       "    </tr>\n",
       "    <tr>\n",
       "      <th>3</th>\n",
       "      <td>0_1000000658_skbr3_erk_akt__WT_untreated</td>\n",
       "      <td>0.831403</td>\n",
       "      <td>0.652266</td>\n",
       "      <td>0.454141</td>\n",
       "      <td>0.696562</td>\n",
       "      <td>0.757371</td>\n",
       "      <td>0.882979</td>\n",
       "      <td>0.805273</td>\n",
       "      <td>0.936487</td>\n",
       "      <td>0.915338</td>\n",
       "      <td>...</td>\n",
       "      <td>0.779451</td>\n",
       "      <td>0.878771</td>\n",
       "      <td>0.866162</td>\n",
       "      <td>0.826636</td>\n",
       "      <td>0</td>\n",
       "      <td>0.607951</td>\n",
       "      <td>H210122_SKBR3</td>\n",
       "      <td>untreated</td>\n",
       "      <td>skbr3</td>\n",
       "      <td>WT</td>\n",
       "    </tr>\n",
       "    <tr>\n",
       "      <th>4</th>\n",
       "      <td>75_1000100136_skbr3_erk_akt__WT_untreated</td>\n",
       "      <td>0.165367</td>\n",
       "      <td>0.141473</td>\n",
       "      <td>0.447377</td>\n",
       "      <td>0.482309</td>\n",
       "      <td>0.478944</td>\n",
       "      <td>0.658566</td>\n",
       "      <td>0.682605</td>\n",
       "      <td>0.727898</td>\n",
       "      <td>0.744381</td>\n",
       "      <td>...</td>\n",
       "      <td>0.562468</td>\n",
       "      <td>0.551105</td>\n",
       "      <td>0.634450</td>\n",
       "      <td>0.626864</td>\n",
       "      <td>75</td>\n",
       "      <td>0.668938</td>\n",
       "      <td>H210122_SKBR3</td>\n",
       "      <td>untreated</td>\n",
       "      <td>skbr3</td>\n",
       "      <td>WT</td>\n",
       "    </tr>\n",
       "  </tbody>\n",
       "</table>\n",
       "<p>5 rows × 478 columns</p>\n",
       "</div>"
      ],
      "text/plain": [
       "                                 track_index     0.0_x     0.2_x     0.5_x  \\\n",
       "0  69_1000049620_skbr3_erk_akt__WT_untreated  0.784316  0.786841  0.603200   \n",
       "1   2_1000028311_skbr3_erk_akt__WT_untreated  0.602541  0.605066  0.421425   \n",
       "2  69_1000046124_skbr3_erk_akt__WT_untreated  0.777447  0.753066  0.476562   \n",
       "3   0_1000000658_skbr3_erk_akt__WT_untreated  0.831403  0.652266  0.454141   \n",
       "4  75_1000100136_skbr3_erk_akt__WT_untreated  0.165367  0.141473  0.447377   \n",
       "\n",
       "      0.8_x     1.0_x     1.2_x     1.5_x     1.8_x     2.0_x  ...    57.5_y  \\\n",
       "0  0.541081  0.458533  0.431992  0.712106  0.699950  0.730170  ...  0.242807   \n",
       "1  0.605618  0.691947  0.672889  0.614016  0.661317  0.682537  ...  0.557662   \n",
       "2  0.595350  0.605771  0.767272  0.737938  0.733756  0.776656  ...  0.522485   \n",
       "3  0.696562  0.757371  0.882979  0.805273  0.936487  0.915338  ...  0.779451   \n",
       "4  0.482309  0.478944  0.658566  0.682605  0.727898  0.744381  ...  0.562468   \n",
       "\n",
       "     57.8_y    58.0_y    58.2_y  site_y  median_y        dataset       drug  \\\n",
       "0  0.127572  0.132009  0.047259      69  0.299107  H210122_SKBR3  untreated   \n",
       "1  0.562536  0.564215  0.564624       2  0.693558  H210122_SKBR3  untreated   \n",
       "2  0.451602  0.484998  0.550944      69  0.509604  H210122_SKBR3  untreated   \n",
       "3  0.878771  0.866162  0.826636       0  0.607951  H210122_SKBR3  untreated   \n",
       "4  0.551105  0.634450  0.626864      75  0.668938  H210122_SKBR3  untreated   \n",
       "\n",
       "   cell_line  mutant  \n",
       "0      skbr3      WT  \n",
       "1      skbr3      WT  \n",
       "2      skbr3      WT  \n",
       "3      skbr3      WT  \n",
       "4      skbr3      WT  \n",
       "\n",
       "[5 rows x 478 columns]"
      ]
     },
     "execution_count": 3,
     "metadata": {},
     "output_type": "execute_result"
    }
   ],
   "source": [
    "load = 'normalized' # or 'raw'\n",
    "\n",
    "series_sel = pd.read_csv('../data/HER2/H210122_SKBR3/normalized/clover_all_cell.csv').columns[1:-3]\n",
    "\n",
    "_datas = []\n",
    "for dataset in os.listdir('../data/HER2'): \n",
    "    cl_path = '../data/HER2/' + dataset + '/' + load + '/clover_all_cell.csv'\n",
    "    ms_path = '../data/HER2/' + dataset + '/' + load + '/mscarlet_all_cell.csv'\n",
    "    _clover = pd.read_csv(cl_path)\n",
    "    _mscarl = pd.read_csv(ms_path)\n",
    "    _data = _clover.merge(_mscarl, on=['track_index', 'cell__treatment'], how='inner')\n",
    "    _data = _data.assign(dataset=dataset)\n",
    "    _datas.append(_data)\n",
    "    \n",
    "data = pd.concat(_datas, axis=0)\n",
    "\n",
    "clover_sel = [f'{x}_x' for x in series_sel]\n",
    "mscarl_sel = [f'{x}_y' for x in series_sel]\n",
    "\n",
    "data = data.assign(drug = [x.split('_', maxsplit=5)[-1] for x in data.cell__treatment])\n",
    "data = data.assign(cell_line = [x.split('_', maxsplit=5)[0] for x in data.cell__treatment])\n",
    "data = data.assign(mutant = [x.split('_', maxsplit=5)[-2] for x in data.cell__treatment])\n",
    "\n",
    "data.head()"
   ]
  },
  {
   "cell_type": "code",
   "execution_count": 4,
   "metadata": {},
   "outputs": [
    {
     "data": {
      "image/png": "[encoded data removed]",
      "text/plain": [
       "<Figure size 2520x360 with 1 Axes>"
      ]
     },
     "metadata": {
      "needs_background": "light"
     },
     "output_type": "display_data"
    }
   ],
   "source": [
    "plt.figure(figsize=(35, 5))\n",
    "plt.bar(x=data.columns, height=data.isna().sum())\n",
    "plt.xticks(rotation=90)\n",
    "plt.show()"
   ]
  },
  {
   "cell_type": "code",
   "execution_count": 5,
   "metadata": {},
   "outputs": [
    {
     "data": {
      "text/plain": [
       "(9522, 478)"
      ]
     },
     "execution_count": 5,
     "metadata": {},
     "output_type": "execute_result"
    }
   ],
   "source": [
    "data = data[lambda x: x.drug.isin(['untreated', '10nm_neratinib'])]\n",
    "data.shape"
   ]
  },
  {
   "cell_type": "code",
   "execution_count": 6,
   "metadata": {},
   "outputs": [
    {
     "data": {
      "image/png": "[encoded data removed]",
      "text/plain": [
       "<Figure size 2520x360 with 1 Axes>"
      ]
     },
     "metadata": {
      "needs_background": "light"
     },
     "output_type": "display_data"
    }
   ],
   "source": [
    "plt.figure(figsize=(35, 5))\n",
    "plt.bar(x=data.columns, height=data.isna().sum())\n",
    "plt.xticks(rotation=90)\n",
    "plt.show()"
   ]
  },
  {
   "cell_type": "code",
   "execution_count": 7,
   "metadata": {},
   "outputs": [],
   "source": [
    "# remove na\n",
    "clover_sel = np.array(clover_sel)[~data[clover_sel].isna().any()]\n",
    "mscarl_sel = np.array(mscarl_sel)[~data[mscarl_sel].isna().any()]"
   ]
  },
  {
   "cell_type": "code",
   "execution_count": null,
   "metadata": {},
   "outputs": [],
   "source": []
  },
  {
   "cell_type": "code",
   "execution_count": null,
   "metadata": {},
   "outputs": [],
   "source": []
  },
  {
   "cell_type": "code",
   "execution_count": 8,
   "metadata": {},
   "outputs": [
    {
     "name": "stdout",
     "output_type": "stream",
     "text": [
      "(9522, 139, 2)\n",
      "(9522, 100, 2)\n"
     ]
    }
   ],
   "source": [
    "#X_train = data[clover_sel]\n",
    "X_train = np.stack([data[clover_sel], data[mscarl_sel]], axis=2)\n",
    "print(X_train.shape)\n",
    "\n",
    "sz = 100\n",
    "# Make time series shorter\n",
    "X_train2 = TimeSeriesResampler(sz=sz).fit_transform(X_train)\n",
    "#sz = X_train2.shape[1]\n",
    "print(X_train2.shape)"
   ]
  },
  {
   "cell_type": "code",
   "execution_count": 9,
   "metadata": {},
   "outputs": [
    {
     "data": {
      "image/png": "[encoded data removed]",
      "text/plain": [
       "<Figure size 1440x360 with 1 Axes>"
      ]
     },
     "metadata": {
      "needs_background": "light"
     },
     "output_type": "display_data"
    }
   ],
   "source": [
    "plt.figure(figsize=(20,5))\n",
    "plt.plot(X_train[0, :, 0], 'r-')\n",
    "xx = np.linspace(0, X_train.shape[1], sz)\n",
    "yy = X_train2[0, :, 0]\n",
    "plt.plot(xx, yy, 'b-')\n",
    "plt.show()"
   ]
  },
  {
   "cell_type": "code",
   "execution_count": null,
   "metadata": {},
   "outputs": [],
   "source": []
  },
  {
   "cell_type": "code",
   "execution_count": 10,
   "metadata": {},
   "outputs": [],
   "source": [
    "X_train = X_train2"
   ]
  },
  {
   "cell_type": "markdown",
   "metadata": {},
   "source": [
    "# Choose # of Clusters"
   ]
  },
  {
   "cell_type": "code",
   "execution_count": 12,
   "metadata": {},
   "outputs": [],
   "source": [
    "if False: \n",
    "    clus_res = {'n':[] , 'inertia':[]}\n",
    "    for n in np.arange(2,35,3):\n",
    "        print(f'Training kmeans with {n} clusters', end='\\r')\n",
    "        model = TimeSeriesKMeans(n_clusters=n, verbose=False, random_state=0, metric='euclidean', n_jobs=8)\n",
    "        model.fit(X_train)\n",
    "        clus_res['n'].append(n)\n",
    "        clus_res['inertia'].append(model.inertia_)\n",
    "    clus_res = pd.DataFrame(clus_res)\n",
    "    \n",
    "    kneedle = KneeLocator(clus_res.n, clus_res.inertia, S=1.0, curve=\"convex\", direction=\"decreasing\")\n",
    "    kneedle.plot_knee_normalized()\n",
    "    print('elbow point:', kneedle.knee_y)"
   ]
  },
  {
   "cell_type": "markdown",
   "metadata": {},
   "source": [
    "# Cluster"
   ]
  },
  {
   "cell_type": "code",
   "execution_count": null,
   "metadata": {},
   "outputs": [],
   "source": [
    "nclus = 25"
   ]
  },
  {
   "cell_type": "code",
   "execution_count": null,
   "metadata": {},
   "outputs": [],
   "source": [
    "km = TimeSeriesKMeans(n_clusters=nclus, verbose=True, random_state=0, metric='euclidean', n_jobs=8)\n",
    "y_pred = km.fit_predict(X_train)"
   ]
  },
  {
   "cell_type": "code",
   "execution_count": null,
   "metadata": {},
   "outputs": [],
   "source": [
    "plt.figure(figsize=(20,10))\n",
    "for yi in range(nclus):\n",
    "    plt.subplot(5, 5, yi + 1)\n",
    "    for xx in X_train[y_pred == yi][0:250]:\n",
    "        plt.plot(xx[:,0], \"r-\", alpha=.05)\n",
    "        plt.plot(xx[:,1], \"b-\", alpha=.05)\n",
    "        \n",
    "    plt.title(f'cluster sz: {len(X_train[y_pred == yi])}')\n",
    "    plt.plot(km.cluster_centers_[yi][:,0], \"r-\", label='clover')\n",
    "    plt.plot(km.cluster_centers_[yi][:,1], \"b-\", label='mscarlet')\n",
    "    \n",
    "    plt.xlim(0, sz)\n",
    "    plt.ylim(0, 1)\n",
    "    plt.text(0.55, 0.85,'Cluster %d' % (yi + 1),\n",
    "             transform=plt.gca().transAxes)\n",
    "\n",
    "plt.tight_layout()\n",
    "plt.show()"
   ]
  },
  {
   "cell_type": "code",
   "execution_count": null,
   "metadata": {},
   "outputs": [],
   "source": [
    "lb = LabelEncoder()\n",
    "y_trt = lb.fit_transform([f'{x}--{y}' for x,y in zip(data.cell__treatment.values, data.dataset.values)])"
   ]
  },
  {
   "cell_type": "code",
   "execution_count": null,
   "metadata": {},
   "outputs": [],
   "source": [
    "cm_cnts = {c:np.zeros(nclus) for c in lb.classes_} "
   ]
  },
  {
   "cell_type": "code",
   "execution_count": null,
   "metadata": {},
   "outputs": [],
   "source": [
    "for i, clus, grp in zip(range(len(y_pred)), y_pred, y_trt) :\n",
    "    cm_cnts[lb.classes_[grp]][clus] += 1\n",
    "    \n",
    "cm_prob = {k:v/np.sum(v) for k,v in cm_cnts.items()}"
   ]
  },
  {
   "cell_type": "code",
   "execution_count": null,
   "metadata": {},
   "outputs": [],
   "source": [
    "labels = [k for k,v in cm_prob.items()]\n",
    "cm = np.stack([v for k,v in cm_prob.items()], axis=0)"
   ]
  },
  {
   "cell_type": "code",
   "execution_count": null,
   "metadata": {},
   "outputs": [],
   "source": [
    "cm.shape"
   ]
  },
  {
   "cell_type": "markdown",
   "metadata": {},
   "source": [
    "# Endogenous clusters\n",
    "\n",
    "Are there any clusters that ALL cells have small proportions of? "
   ]
  },
  {
   "cell_type": "code",
   "execution_count": null,
   "metadata": {},
   "outputs": [],
   "source": []
  },
  {
   "cell_type": "markdown",
   "metadata": {},
   "source": [
    "# Cluster co-occurence"
   ]
  },
  {
   "cell_type": "code",
   "execution_count": null,
   "metadata": {},
   "outputs": [],
   "source": [
    "corr = np.corrcoef(cm, rowvar=False)\n",
    "\n",
    "plt.figure(figsize=(7,7))\n",
    "ax = sbn.clustermap(\n",
    "    corr, \n",
    "    vmin=-1, vmax=1, center=0,\n",
    "    square=True\n",
    ")\n",
    "plt.show()"
   ]
  },
  {
   "cell_type": "code",
   "execution_count": null,
   "metadata": {},
   "outputs": [],
   "source": [
    "cm_stds = cm.std(axis=0)\n",
    "\n",
    "plt.figure()\n",
    "plt.hist(cm_stds, bins=7)\n",
    "plt.ylabel('count')\n",
    "plt.xlabel('standard deviation')\n",
    "plt.show()"
   ]
  },
  {
   "cell_type": "code",
   "execution_count": null,
   "metadata": {},
   "outputs": [],
   "source": [
    "#drug = dict(zip(data.drug.unique(), \"rbg\"))\n",
    "#row_colors = data.drug.map(drug)\n",
    "#g = sbn.clustermap(cm, row_colors=row_colors)\n",
    "# [x.split('--')[0].split('_')[-1] for x in lb.classes_], 'cell_line':[x.split('_')[4] for x in lb.classes_]\n",
    "\n",
    "drug = [x.split('--')[0].split('_')[-1] for x in labels]\n",
    "lut = dict(zip(set(drug), sbn.hls_palette(len(set(drug)), l=0.5, s=0.8)))\n",
    "row_colors = pd.DataFrame(drug)[0].map(lut)\n",
    "\n",
    "#Create additional row_colors here\n",
    "cell_line = [x.split('_')[4] for x in labels]\n",
    "lut2 = dict(zip(set(cell_line), sbn.hls_palette(len(set(cell_line)), l=0.5, s=0.8)))\n",
    "row_colors2 = pd.DataFrame(cell_line)[0].map(lut2)\n",
    "\n",
    "df = pd.DataFrame(index=labels, data=cm)\n",
    "sbn.clustermap(df, figsize=(12,15), row_colors=[row_colors, row_colors2]) \n",
    "\n",
    "#plt.ylabel('treatment')\n",
    "#plt.yticks(ticks=plt.yticks()[0], labels=[str(x) for x in labels])\n",
    "#plt.xlabel('cluster label')\n",
    "plt.show()"
   ]
  },
  {
   "cell_type": "markdown",
   "metadata": {},
   "source": [
    "# Clustermap within JUST neratinib"
   ]
  },
  {
   "cell_type": "code",
   "execution_count": null,
   "metadata": {},
   "outputs": [],
   "source": [
    "labels2_sel = ['neratinib' in x for x in labels]\n",
    "labels2 = np.array(labels)[labels2_sel]\n",
    "cm2 = cm[labels2_sel, :]"
   ]
  },
  {
   "cell_type": "code",
   "execution_count": null,
   "metadata": {},
   "outputs": [],
   "source": [
    "cell_line = [x.split('_')[4] for x in labels]\n",
    "lut2 = dict(zip(set(cell_line), sbn.hls_palette(len(set(cell_line)), l=0.5, s=0.8)))\n",
    "row_colors2 = pd.DataFrame(cell_line)[0].map(lut2)\n",
    "\n",
    "df = pd.DataFrame(index=labels2, data=cm2)\n",
    "sbn.clustermap(df, figsize=(20,15), row_colors=[row_colors2], metric='euclidean') \n",
    "\n",
    "#plt.ylabel('treatment')\n",
    "#plt.yticks(ticks=plt.yticks()[0], labels=[str(x) for x in labels])\n",
    "#plt.xlabel('cluster label')\n",
    "plt.show()"
   ]
  },
  {
   "cell_type": "markdown",
   "metadata": {},
   "source": [
    "# Dimensionality Reduction"
   ]
  },
  {
   "cell_type": "code",
   "execution_count": null,
   "metadata": {},
   "outputs": [],
   "source": [
    "pca = PCA(n_components=2)\n",
    "PCs = pca.fit_transform(cm)\n",
    "\n",
    "print('explained variance ratio:', pca.explained_variance_ratio_)\n",
    "print('PC shape:', PCs.shape)\n",
    "res = pd.DataFrame({'pc1': PCs[:,0], 'pc2':PCs[:,1], 'treatment':[x.split('--')[0].split('_')[-1] for x in lb.classes_], 'cell_line':[x.split('_')[4] for x in lb.classes_]})\n",
    "res.head()"
   ]
  },
  {
   "cell_type": "code",
   "execution_count": null,
   "metadata": {},
   "outputs": [],
   "source": [
    "plt.figure(figsize=(10,13))\n",
    "sbn.scatterplot(x='pc1', y='pc2', data=res, hue='cell_line', style='treatment', s=300)\n",
    "plt.legend(bbox_to_anchor=(1.05, 1), loc=2, borderaxespad=0.)\n",
    "plt.show()"
   ]
  },
  {
   "cell_type": "code",
   "execution_count": null,
   "metadata": {},
   "outputs": [],
   "source": [
    "plt.figure(figsize=(7,7))\n",
    "sbn.scatterplot(x='pc1', y='pc2', data=res[lambda x: (x.cell_line.isin(['WT', 'T798I']))], hue='cell_line', style='treatment', s=300)\n",
    "plt.legend(bbox_to_anchor=(1.05, 1), loc=2, borderaxespad=0.)\n",
    "plt.show()"
   ]
  },
  {
   "cell_type": "code",
   "execution_count": null,
   "metadata": {},
   "outputs": [],
   "source": [
    "res.head()"
   ]
  },
  {
   "cell_type": "code",
   "execution_count": null,
   "metadata": {},
   "outputs": [],
   "source": [
    "res_ner = res[lambda x: (x.cell_line.isin(['WT', 'T798I'])) & (x.treatment == 'neratinib')]"
   ]
  },
  {
   "cell_type": "code",
   "execution_count": null,
   "metadata": {},
   "outputs": [],
   "source": [
    "X = 5* res_ner[['pc1', 'pc2']].values\n",
    "y = 1.*((res_ner.cell_line == 'WT') & (res_ner.treatment == 'neratinib')).values #+  2.* (res_ner.treatment == 'untreated').values"
   ]
  },
  {
   "cell_type": "code",
   "execution_count": null,
   "metadata": {},
   "outputs": [],
   "source": [
    "np.unique(y)"
   ]
  },
  {
   "cell_type": "code",
   "execution_count": null,
   "metadata": {},
   "outputs": [],
   "source": [
    "X.shape"
   ]
  },
  {
   "cell_type": "code",
   "execution_count": null,
   "metadata": {},
   "outputs": [],
   "source": [
    "n_features = X.shape[1]\n",
    "\n",
    "C = 10\n",
    "kernel = 1.0 * RBF([1.0, 1.0])  # for GPC\n",
    "\n",
    "# Create different classifiers.\n",
    "classifiers = {\n",
    "    'L1 logistic': LogisticRegression(C=C, penalty='l1',\n",
    "                                      solver='saga',\n",
    "                                      multi_class='multinomial',\n",
    "                                      max_iter=10000),\n",
    "    'L2 logistic (Multinomial)': LogisticRegression(C=C, penalty='l2',\n",
    "                                                    solver='saga',\n",
    "                                                    multi_class='multinomial',\n",
    "                                                    max_iter=10000),\n",
    "    'L2 logistic (OvR)': LogisticRegression(C=C, penalty='l2',\n",
    "                                            solver='saga',\n",
    "                                            multi_class='ovr',\n",
    "                                            max_iter=10000),\n",
    "    'Linear SVC': SVC(kernel='linear', C=C, probability=True,\n",
    "                      random_state=0),\n",
    "    'GPC': GaussianProcessClassifier(kernel)\n",
    "}\n",
    "\n",
    "n_classifiers = len(classifiers)\n",
    "\n",
    "plt.figure(figsize=(4 * 2, n_classifiers * 4))\n",
    "plt.subplots_adjust(bottom=.2, top=.95)\n",
    "\n",
    "xx = np.linspace(-1, 1, 100)\n",
    "yy = np.linspace(-1, 1, 100).T\n",
    "xx, yy = np.meshgrid(xx, yy)\n",
    "Xfull = np.c_[xx.ravel(), yy.ravel()]\n",
    "\n",
    "class_names = ['resistant', 'sensitive', 'untreated']\n",
    "for index, (name, classifier) in enumerate(classifiers.items()):\n",
    "    classifier.fit(X, y)\n",
    "\n",
    "    y_pred = classifier.predict(X)\n",
    "    accuracy = accuracy_score(y, y_pred)\n",
    "    print(\"Accuracy (train) for %s: %0.1f%% \" % (name, accuracy * 100))\n",
    "\n",
    "    # View probabilities:\n",
    "    probas = classifier.predict_proba(Xfull)\n",
    "    n_classes = np.unique(y_pred).size\n",
    "    for k in range(n_classes):\n",
    "        plt.subplot(n_classifiers, n_classes, index * n_classes + k + 1)\n",
    "        plt.title(\"%s class\" % class_names[k])\n",
    "        if k == 0:\n",
    "            plt.ylabel(name)\n",
    "        imshow_handle = plt.imshow(probas[:, k].reshape((100, 100)),\n",
    "                                   extent=(-1, 1, -1, 1), origin='lower')\n",
    "        plt.xticks(())\n",
    "        plt.yticks(())\n",
    "        idx = (y_pred == k)\n",
    "        if idx.any():\n",
    "            plt.scatter(X[idx, 0], X[idx, 1], marker='o', c='w', edgecolor='k')\n",
    "\n",
    "ax = plt.axes([0.15, 0.04, 0.7, 0.05])\n",
    "plt.title(\"Probability\")\n",
    "plt.colorbar(imshow_handle, cax=ax, orientation='horizontal')\n",
    "\n",
    "plt.show()"
   ]
  },
  {
   "cell_type": "code",
   "execution_count": null,
   "metadata": {},
   "outputs": [],
   "source": [
    "ner_other = res[lambda x: ~(x.cell_line.isin(['WT', 'T798I'])) & (x.treatment == 'neratinib')].reset_index(drop=True)\n",
    "ner_other.shape"
   ]
  },
  {
   "cell_type": "code",
   "execution_count": null,
   "metadata": {},
   "outputs": [],
   "source": [
    "X_all = 5*ner_other[['pc1', 'pc2']].values\n",
    "X_all.shape"
   ]
  },
  {
   "cell_type": "code",
   "execution_count": null,
   "metadata": {},
   "outputs": [],
   "source": [
    "y_hat = classifiers['Linear SVC'].predict_proba(X_all)\n",
    "y_hat.shape"
   ]
  },
  {
   "cell_type": "code",
   "execution_count": null,
   "metadata": {},
   "outputs": [],
   "source": [
    "f, ax = plt.subplots(1,2, figsize=(15,5))\n",
    "ax[0].hist(y_hat[:,0])\n",
    "ax[0].set_title('resistant')\n",
    "ax[1].hist(y_hat[:,1])\n",
    "ax[1].set_title('sensitive')\n",
    "#ax[2].hist(y_hat[:,2])\n",
    "#ax[2].set_title('untreated')\n",
    "plt.show()"
   ]
  },
  {
   "cell_type": "code",
   "execution_count": null,
   "metadata": {},
   "outputs": [],
   "source": [
    "del pres\n",
    "pres = pd.DataFrame({'prob_res':y_hat[:,0], 'prob_sens':y_hat[:,1]})#, 'prob_untreat':y_hat[:,2]})\n",
    "res2 = pd.concat([ner_other, pres], axis=1) # ,'untreat'\n",
    "res2 = res2.assign(call=[['res','sens'][np.argmax([x,y])] for x,y in zip(res2.prob_res, res2.prob_sens)])#, res2.prob_untreat)])\n",
    "res2.head()"
   ]
  },
  {
   "cell_type": "code",
   "execution_count": null,
   "metadata": {},
   "outputs": [],
   "source": [
    "res2.groupby(['call', 'treatment'])[['cell_line']].count()"
   ]
  },
  {
   "cell_type": "code",
   "execution_count": null,
   "metadata": {},
   "outputs": [],
   "source": [
    "res2[lambda x: x.call == 'res'].sort_values('prob_res', ascending=False)"
   ]
  },
  {
   "cell_type": "code",
   "execution_count": null,
   "metadata": {},
   "outputs": [],
   "source": [
    "res2.sort_values('prob_sens', ascending=False)"
   ]
  },
  {
   "cell_type": "code",
   "execution_count": null,
   "metadata": {},
   "outputs": [],
   "source": [
    "res2[lambda x: x.prob_untreat > 0.75]"
   ]
  },
  {
   "cell_type": "markdown",
   "metadata": {},
   "source": [
    "# Shapelets "
   ]
  },
  {
   "cell_type": "code",
   "execution_count": null,
   "metadata": {},
   "outputs": [],
   "source": [
    "data2 = data[lambda x: x.drug.isin(['10nm_neratinib']) & (x.mutant.isin(['WT', 'T798I']))].reset_index(drop=True)\n",
    "\n",
    "#X_train = data[clover_sel]\n",
    "X_train = np.stack([data2[clover_sel], data2[mscarl_sel]], axis=2)\n",
    "print(X_train.shape)\n",
    "\n",
    "y_train = 1*np.array([x == 'WT' for x in data2.mutant.values])\n",
    "np.unique(y_train)"
   ]
  },
  {
   "cell_type": "code",
   "execution_count": null,
   "metadata": {},
   "outputs": [],
   "source": [
    "# Author: Gilles Vandewiele\n",
    "# License: BSD 3 clause\n",
    "\n",
    "# Set a seed to ensure determinism\n",
    "np.random.seed(42)\n",
    "\n",
    "# Normalize the time series\n",
    "X_train = TimeSeriesScalerMinMax().fit_transform(X_train)\n",
    "\n",
    "# Get statistics of the dataset\n",
    "n_ts, ts_sz = X_train.shape[:2]\n",
    "n_classes = len(set(y_train))\n",
    "\n",
    "# We will extract 2 shapelets and align them with the time series\n",
    "shapelet_sizes = {20: 2}\n",
    "\n",
    "# Define the model and fit it using the training data\n",
    "shp_clf = LearningShapelets(n_shapelets_per_size=shapelet_sizes,\n",
    "                            weight_regularizer=0.0001,\n",
    "                            optimizer=Adam(lr=0.01),\n",
    "                            max_iter=300,\n",
    "                            verbose=0,\n",
    "                            scale=False,\n",
    "                            random_state=42)\n",
    "\n",
    "shp_clf.fit(X_train, y_train)\n",
    "\n",
    "# We will plot our distances in a 2D space\n",
    "distances = shp_clf.transform(X_train).reshape((-1, 2))\n",
    "weights, biases = shp_clf.get_weights('classification')\n",
    "\n",
    "# Create a grid for our two shapelets on the left and distances on the right\n",
    "viridis = cm.get_cmap('viridis', 4)\n",
    "fig = plt.figure(constrained_layout=True)\n",
    "gs = fig.add_gridspec(3, 9)\n",
    "fig_ax1 = fig.add_subplot(gs[0, :2])\n",
    "fig_ax2 = fig.add_subplot(gs[0, 2:4])\n",
    "fig_ax3a = fig.add_subplot(gs[1, :2])\n",
    "fig_ax3b = fig.add_subplot(gs[1, 2:4])\n",
    "fig_ax3c = fig.add_subplot(gs[2, :2])\n",
    "fig_ax3d = fig.add_subplot(gs[2, 2:4])\n",
    "fig_ax4 = fig.add_subplot(gs[:, 4:])\n",
    "\n",
    "# Plot our two shapelets on the left side\n",
    "fig_ax1.plot(shp_clf.shapelets_[0])\n",
    "fig_ax1.set_title('Shapelet $\\mathbf{s}_1$')\n",
    "\n",
    "fig_ax2.plot(shp_clf.shapelets_[1])\n",
    "fig_ax2.set_title('Shapelet $\\mathbf{s}_2$')\n",
    "\n",
    "# Create the time series of each class\n",
    "for i, subfig in enumerate([fig_ax3a, fig_ax3b, fig_ax3c, fig_ax3d]):\n",
    "    for k, ts in enumerate(X_train[y_train == i + 1]):\n",
    "        subfig.plot(ts.flatten(), c=viridis(i / 3), alpha=0.25)\n",
    "        subfig.set_title('Class {}'.format(i + 1))\n",
    "fig.text(x=.15, y=.02, s='Input time series', fontsize=12)\n",
    "\n",
    "# Create a scatter plot of the 2D distances for the time series of each class.\n",
    "for i, y in enumerate(numpy.unique(y_train)):\n",
    "    fig_ax4.scatter(distances[y_train == y][:, 0],\n",
    "                    distances[y_train == y][:, 1],\n",
    "                    c=[viridis(i / 3)] * numpy.sum(y_train == y),\n",
    "                    edgecolors='k',\n",
    "                    label='Class {}'.format(y))\n",
    "\n",
    "# Create a meshgrid of the decision boundaries\n",
    "xmin = numpy.min(distances[:, 0]) - 0.1\n",
    "xmax = numpy.max(distances[:, 0]) + 0.1\n",
    "ymin = numpy.min(distances[:, 1]) - 0.1\n",
    "ymax = numpy.max(distances[:, 1]) + 0.1\n",
    "xx, yy = numpy.meshgrid(numpy.arange(xmin, xmax, (xmax - xmin)/200),\n",
    "                        numpy.arange(ymin, ymax, (ymax - ymin)/200))\n",
    "Z = []\n",
    "for x, y in numpy.c_[xx.ravel(), yy.ravel()]:\n",
    "    Z.append(numpy.argmax([biases[i] + weights[0][i]*x + weights[1][i]*y\n",
    "                           for i in range(4)]))\n",
    "Z = numpy.array(Z).reshape(xx.shape)\n",
    "cs = fig_ax4.contourf(xx, yy, Z / 3, cmap=viridis, alpha=0.25)\n",
    "\n",
    "fig_ax4.legend()\n",
    "fig_ax4.set_xlabel('$d(\\mathbf{x}, \\mathbf{s}_1)$')\n",
    "fig_ax4.set_ylabel('$d(\\mathbf{x}, \\mathbf{s}_2)$')\n",
    "fig_ax4.set_xlim((xmin, xmax))\n",
    "fig_ax4.set_ylim((ymin, ymax))\n",
    "fig_ax4.set_title('Distance transformed time series')\n",
    "plt.show()"
   ]
  },
  {
   "cell_type": "code",
   "execution_count": null,
   "metadata": {},
   "outputs": [],
   "source": []
  },
  {
   "cell_type": "code",
   "execution_count": null,
   "metadata": {},
   "outputs": [],
   "source": []
  },
  {
   "cell_type": "code",
   "execution_count": null,
   "metadata": {},
   "outputs": [],
   "source": []
  }
 ],
 "metadata": {
  "kernelspec": {
   "display_name": "Python 3",
   "language": "python",
   "name": "python3"
  },
  "language_info": {
   "codemirror_mode": {
    "name": "ipython",
    "version": 3
   },
   "file_extension": ".py",
   "mimetype": "text/x-python",
   "name": "python",
   "nbconvert_exporter": "python",
   "pygments_lexer": "ipython3",
   "version": "3.8.8"
  },
  "toc": {
   "base_numbering": 1,
   "nav_menu": {},
   "number_sections": true,
   "sideBar": true,
   "skip_h1_title": false,
   "title_cell": "Table of Contents",
   "title_sidebar": "Contents",
   "toc_cell": false,
   "toc_position": {},
   "toc_section_display": true,
   "toc_window_display": false
  }
 },
 "nbformat": 4,
 "nbformat_minor": 2
}
